{
 "cells": [
  {
   "cell_type": "code",
   "execution_count": 2,
   "metadata": {
    "ExecuteTime": {
     "end_time": "2020-11-28T09:51:22.606940Z",
     "start_time": "2020-11-28T09:51:22.598938Z"
    },
    "hide_input": true
   },
   "outputs": [
    {
     "data": {
      "text/html": [
       "<style>.container { width:60% !important; }</style>"
      ],
      "text/plain": [
       "<IPython.core.display.HTML object>"
      ]
     },
     "metadata": {},
     "output_type": "display_data"
    }
   ],
   "source": [
    "# NB settings\n",
    "from IPython.core.display import display, HTML\n",
    "display(HTML(\"<style>.container { width:60% !important; }</style>\"))"
   ]
  },
  {
   "cell_type": "code",
   "execution_count": 3,
   "metadata": {
    "ExecuteTime": {
     "end_time": "2020-11-28T09:51:24.161464Z",
     "start_time": "2020-11-28T09:51:22.972426Z"
    },
    "hide_input": true
   },
   "outputs": [],
   "source": [
    "# Settings\n",
    "import pandas as pd\n",
    "import numpy as np\n",
    "import scipy as sci\n",
    "import statsmodels.api as sm\n",
    "import statsmodels.formula.api as smf\n",
    "import matplotlib.pyplot as plt\n",
    "plt.style.use(['bmh','seaborn-white'])\n",
    "import seaborn as sns\n",
    "\n",
    "pd.set_option('display.width', 1200)\n",
    "np.set_printoptions(linewidth=1200)\n",
    "pd.set_option('display.max_columns',50)\n",
    "pd.set_option('display.max_rows',100)"
   ]
  },
  {
   "cell_type": "markdown",
   "metadata": {},
   "source": [
    "# Welcome to the second session"
   ]
  },
  {
   "cell_type": "markdown",
   "metadata": {},
   "source": [
    "**Today:** \n",
    "methods that will help you in the case study and a Q&A"
   ]
  },
  {
   "cell_type": "markdown",
   "metadata": {},
   "source": [
    "| | |\n",
    "|:--------------|:-----------------------------|\n",
    "|10:00 to 11:15 | Theory and Application Part 1|\n",
    "|11:15 to 11:20 | Break|\n",
    "|11:20 to 12:30 | Theory and Application Part 2|\n",
    "|12:30 to 13:00 | Break|\n",
    "|13:00 to 14:00 | Q&A with BTV's RMF|\n",
    "|14:00 to 14:45 | Theory and Application Part 3|\n",
    "|14:45 to 15:00 | Break|\n",
    "|15:00 to 16:00 | Theory and Application Part 4 |"
   ]
  },
  {
   "cell_type": "markdown",
   "metadata": {},
   "source": [
    "## Recap"
   ]
  },
  {
   "cell_type": "markdown",
   "metadata": {},
   "source": [
    "* **First look on your case study dataset and description of the task**\n",
    "\n",
    "* **Loading a dataset**\n",
    "    + Always check if successfull\n",
    "    + Data types\n",
    "    + Missing values\n",
    "    \n",
    "* **Get an overview over your dataset**\n",
    "    * Revision of general data types\n",
    "        + boolean / dummy / dichotomous \n",
    "        + ordinal / categorical (unordered / ordered)\n",
    "        + interval scaled / numerical\n",
    "    * For categorical variables - check the size of the individual groups as well (merging groups)\n",
    "    \n",
    "* **Correlations, Histogram, Boxplots and data transformations**\n",
    "    + e.g. use log transformation if the variable allows it\n",
    "    + split the groups by the observed variable of interest (default) -> are there differences in the distribution of the feature?\n",
    "    + trust aspects that you can visualize and which make sense from an economic perspective    \n",
    "    \n",
    "* **OLS vs. GLM (Logit) Regressions**\n",
    "* **GINI / AUC measure**"
   ]
  },
  {
   "cell_type": "markdown",
   "metadata": {},
   "source": [
    "## Content"
   ]
  },
  {
   "cell_type": "markdown",
   "metadata": {
    "toc": true
   },
   "source": [
    "<h1>Theoretical and Applied Part<span class=\"tocSkip\"></span></h1>\n",
    "<div class=\"toc\"><ul class=\"toc-item\"><li><span><a href=\"#Welcome-to-the-second-session\" data-toc-modified-id=\"Welcome-to-the-second-session-1\"><span class=\"toc-item-num\">1&nbsp;&nbsp;</span>Welcome to the second session</a></span><ul class=\"toc-item\"><li><span><a href=\"#Recap\" data-toc-modified-id=\"Recap-1.1\"><span class=\"toc-item-num\">1.1&nbsp;&nbsp;</span>Recap</a></span></li><li><span><a href=\"#Content\" data-toc-modified-id=\"Content-1.2\"><span class=\"toc-item-num\">1.2&nbsp;&nbsp;</span>Content</a></span></li></ul></li><li><span><a href=\"#Theoretical-aspects\" data-toc-modified-id=\"Theoretical-aspects-2\"><span class=\"toc-item-num\">2&nbsp;&nbsp;</span>Theoretical aspects</a></span><ul class=\"toc-item\"><li><span><a href=\"#Missing-values-/-NA\" data-toc-modified-id=\"Missing-values-/-NA-2.1\"><span class=\"toc-item-num\">2.1&nbsp;&nbsp;</span>Missing values / NA</a></span><ul class=\"toc-item\"><li><span><a href=\"#Three-Concepts-about-missingness\" data-toc-modified-id=\"Three-Concepts-about-missingness-2.1.1\"><span class=\"toc-item-num\">2.1.1&nbsp;&nbsp;</span>Three Concepts about missingness</a></span></li><li><span><a href=\"#Handling-missing-values\" data-toc-modified-id=\"Handling-missing-values-2.1.2\"><span class=\"toc-item-num\">2.1.2&nbsp;&nbsp;</span>Handling missing values</a></span></li><li><span><a href=\"#Example\" data-toc-modified-id=\"Example-2.1.3\"><span class=\"toc-item-num\">2.1.3&nbsp;&nbsp;</span>Example</a></span></li></ul></li><li><span><a href=\"#Dealing-with-outliers\" data-toc-modified-id=\"Dealing-with-outliers-2.2\"><span class=\"toc-item-num\">2.2&nbsp;&nbsp;</span>Dealing with outliers</a></span></li><li><span><a href=\"#Model-Selection\" data-toc-modified-id=\"Model-Selection-2.3\"><span class=\"toc-item-num\">2.3&nbsp;&nbsp;</span>Model Selection</a></span><ul class=\"toc-item\"><li><span><a href=\"#Adjusting-the-training-error\" data-toc-modified-id=\"Adjusting-the-training-error-2.3.1\"><span class=\"toc-item-num\">2.3.1&nbsp;&nbsp;</span>Adjusting the training error</a></span><ul class=\"toc-item\"><li><span><a href=\"#Example\" data-toc-modified-id=\"Example-2.3.1.1\"><span class=\"toc-item-num\">2.3.1.1&nbsp;&nbsp;</span>Example</a></span></li><li><span><a href=\"#Summary-on-&quot;adjusting-the-training-error&quot;\" data-toc-modified-id=\"Summary-on-&quot;adjusting-the-training-error&quot;-2.3.1.2\"><span class=\"toc-item-num\">2.3.1.2&nbsp;&nbsp;</span>Summary on \"adjusting the training error\"</a></span></li></ul></li><li><span><a href=\"#Cross-Validation-approach-(Resampling-methods)\" data-toc-modified-id=\"Cross-Validation-approach-(Resampling-methods)-2.3.2\"><span class=\"toc-item-num\">2.3.2&nbsp;&nbsp;</span>Cross-Validation approach (Resampling methods)</a></span><ul class=\"toc-item\"><li><span><a href=\"#Validation-Set-Approach\" data-toc-modified-id=\"Validation-Set-Approach-2.3.2.1\"><span class=\"toc-item-num\">2.3.2.1&nbsp;&nbsp;</span>Validation Set Approach</a></span></li><li><span><a href=\"#Leave-1-Out-Cross-Validation-Approach\" data-toc-modified-id=\"Leave-1-Out-Cross-Validation-Approach-2.3.2.2\"><span class=\"toc-item-num\">2.3.2.2&nbsp;&nbsp;</span>Leave-1-Out Cross-Validation Approach</a></span></li><li><span><a href=\"#Leave-K-Out-Cross-Validation-Approach\" data-toc-modified-id=\"Leave-K-Out-Cross-Validation-Approach-2.3.2.3\"><span class=\"toc-item-num\">2.3.2.3&nbsp;&nbsp;</span>Leave-K-Out Cross-Validation Approach</a></span></li><li><span><a href=\"#K-Fold-Approach\" data-toc-modified-id=\"K-Fold-Approach-2.3.2.4\"><span class=\"toc-item-num\">2.3.2.4&nbsp;&nbsp;</span>K-Fold Approach</a></span></li><li><span><a href=\"#Repeated-K-Fold-Approach\" data-toc-modified-id=\"Repeated-K-Fold-Approach-2.3.2.5\"><span class=\"toc-item-num\">2.3.2.5&nbsp;&nbsp;</span>Repeated K-Fold Approach</a></span></li><li><span><a href=\"#Stratified-version-of-the-K-Fold-approach\" data-toc-modified-id=\"Stratified-version-of-the-K-Fold-approach-2.3.2.6\"><span class=\"toc-item-num\">2.3.2.6&nbsp;&nbsp;</span>Stratified version of the K-Fold approach</a></span></li><li><span><a href=\"#Example:-K-Fold-approach\" data-toc-modified-id=\"Example:-K-Fold-approach-2.3.2.7\"><span class=\"toc-item-num\">2.3.2.7&nbsp;&nbsp;</span>Example: K-Fold approach</a></span></li></ul></li></ul></li><li><span><a href=\"#Overfitting-and-Feature-selection\" data-toc-modified-id=\"Overfitting-and-Feature-selection-2.4\"><span class=\"toc-item-num\">2.4&nbsp;&nbsp;</span>Overfitting and Feature selection</a></span><ul class=\"toc-item\"><li><span><a href=\"#A-word-of-warning\" data-toc-modified-id=\"A-word-of-warning-2.4.1\"><span class=\"toc-item-num\">2.4.1&nbsp;&nbsp;</span>A word of warning</a></span></li><li><span><a href=\"#Example:-A-small-tree\" data-toc-modified-id=\"Example:-A-small-tree-2.4.2\"><span class=\"toc-item-num\">2.4.2&nbsp;&nbsp;</span>Example: A small tree</a></span><ul class=\"toc-item\"><li><span><a href=\"#The-tree-in-a-figure\" data-toc-modified-id=\"The-tree-in-a-figure-2.4.2.1\"><span class=\"toc-item-num\">2.4.2.1&nbsp;&nbsp;</span>The tree in a figure</a></span></li><li><span><a href=\"#The-tree-exported-as-a-text\" data-toc-modified-id=\"The-tree-exported-as-a-text-2.4.2.2\"><span class=\"toc-item-num\">2.4.2.2&nbsp;&nbsp;</span>The tree exported as a text</a></span></li><li><span><a href=\"#Variable-importance-visualized\" data-toc-modified-id=\"Variable-importance-visualized-2.4.2.3\"><span class=\"toc-item-num\">2.4.2.3&nbsp;&nbsp;</span>Variable importance visualized</a></span></li><li><span><a href=\"#Gini-and-AUC-of-the-tree\" data-toc-modified-id=\"Gini-and-AUC-of-the-tree-2.4.2.4\"><span class=\"toc-item-num\">2.4.2.4&nbsp;&nbsp;</span>Gini and AUC of the tree</a></span></li></ul></li></ul></li><li><span><a href=\"#Other-suitable-methods-you-can-use-in-your-case-study\" data-toc-modified-id=\"Other-suitable-methods-you-can-use-in-your-case-study-2.5\"><span class=\"toc-item-num\">2.5&nbsp;&nbsp;</span>Other suitable methods you can use in your case study</a></span></li></ul></li><li><span><a href=\"#The-case-study-(break-out-rooms)\" data-toc-modified-id=\"The-case-study-(break-out-rooms)-3\"><span class=\"toc-item-num\">3&nbsp;&nbsp;</span>The case study (break out rooms)</a></span></li></ul></div>"
   ]
  },
  {
   "cell_type": "markdown",
   "metadata": {},
   "source": [
    "# Theoretical aspects"
   ]
  },
  {
   "cell_type": "markdown",
   "metadata": {},
   "source": [
    "## Missing values / NA"
   ]
  },
  {
   "cell_type": "markdown",
   "metadata": {},
   "source": [
    "### Three Concepts about missingness"
   ]
  },
  {
   "cell_type": "markdown",
   "metadata": {},
   "source": [
    "**Missing completely at random (MCAR)**\n",
    "* missing values occur entirely at random.\n",
    "* no relationship between whether a data point is missing and any values in the data set, missing or observed.\n",
    "* hence, the missing data are just a random subset of the data.\n",
    "\n",
    "**Missing at random (MAR)**\n",
    "* does not mean that it is random!\n",
    "* missing at random means  the propensity for a data point to be missing is not related to the missing data, but it is related to some of the observed data.\n",
    "* hence, the relationship with the other variables can be used to get an estimate of the value that is missing\n",
    "\n",
    "**Missing not at random (MNAR)**\n",
    "* neither MAR nor MCAR\n",
    "* the value of the variable that's missing is related to the reason it's missing"
   ]
  },
  {
   "cell_type": "markdown",
   "metadata": {},
   "source": [
    "### Handling missing values"
   ]
  },
  {
   "cell_type": "markdown",
   "metadata": {},
   "source": [
    "**If the data are missing completely at random, you could in general**\n",
    "* in (financial-) econometrics, missing observations are often simply discarded for estimation purposes. \n",
    "* nevertheless, if you want to use a variable as a feature in your model in our case, be sure that no observation is missing in test sample such that the model generates the expected output and not NA values.\n",
    "* of course, if your model can have NAs as an output (estimated PDs) as well - you can impute them as well - but but which value should you use? The same question remains"
   ]
  },
  {
   "cell_type": "markdown",
   "metadata": {},
   "source": [
    "**Imputing**\n",
    "\n",
    "What can you do?\n",
    "* Identities exists that can be used to calculate the value (MNAR)\n",
    "* You could use for example measures of central tendencies (mean, median, mode, ...) as well (only if MCAR)\n",
    "* You could exploit a relationship\n",
    " + e.g. a suitable model $m$ to predict $E[y_i \\; | \\; \\boldsymbol{x}_i]$, where $y_i$ denotes the missing value to be imputed and $\\boldsymbol{x}_i$ the vector of observed features that are related to $y_i$. \n",
    " + the suitable model $m$ could be the mean / median of a group, a regression model, etc.\n",
    "* For categorical variables: you can make group a group of \"Unknowns\" or you can create categorical variables from numerical variables ...\n",
    "\n",
    "**Question:** \n",
    "At what project stage should you tackle missing values?"
   ]
  },
  {
   "cell_type": "markdown",
   "metadata": {},
   "source": [
    "### Example"
   ]
  },
  {
   "cell_type": "code",
   "execution_count": 4,
   "metadata": {
    "ExecuteTime": {
     "end_time": "2020-11-28T09:51:26.190425Z",
     "start_time": "2020-11-28T09:51:26.173421Z"
    },
    "scrolled": true
   },
   "outputs": [],
   "source": [
    "# Load file\n",
    "path = 'C:/Users/schmi/OneDrive/Uni/Teaching/Applied_RM/Project/Files/'\n",
    "\n",
    "train = pd.read_csv(path+'Data4Students/Training_Dataset.csv', sep=';', \n",
    "                    dtype={'zip_code':str,\n",
    "                           'sector':str,\n",
    "                           'default':bool}).set_index('id')\n",
    "\n",
    "train['defn'] = train.default.astype(np.float)"
   ]
  },
  {
   "cell_type": "code",
   "execution_count": 5,
   "metadata": {
    "ExecuteTime": {
     "end_time": "2020-11-28T09:51:29.445119Z",
     "start_time": "2020-11-28T09:51:29.427115Z"
    }
   },
   "outputs": [
    {
     "name": "stdout",
     "output_type": "stream",
     "text": [
      "<class 'pandas.core.frame.DataFrame'>\n",
      "Index: 669 entries, C_405 to C_864\n",
      "Data columns (total 40 columns):\n",
      " #   Column                   Non-Null Count  Dtype  \n",
      "---  ------                   --------------  -----  \n",
      " 0   default                  669 non-null    bool   \n",
      " 1   legal_form               669 non-null    object \n",
      " 2   zip_code                 669 non-null    object \n",
      " 3   sector                   669 non-null    object \n",
      " 4   year_inc                 669 non-null    int64  \n",
      " 5   count_emp                316 non-null    float64\n",
      " 6   type_pl                  669 non-null    object \n",
      " 7   sales                    668 non-null    float64\n",
      " 8   gross_performance        662 non-null    float64\n",
      " 9   gross_profit             662 non-null    float64\n",
      " 10  earn_from_op             668 non-null    float64\n",
      " 11  fin_result               647 non-null    float64\n",
      " 12  oth_interest_inc         542 non-null    float64\n",
      " 13  oth_interest_exp         607 non-null    float64\n",
      " 14  result_from_ord_bus      668 non-null    float64\n",
      " 15  total_result             669 non-null    float64\n",
      " 16  annual_profit            668 non-null    float64\n",
      " 17  total_assets             668 non-null    float64\n",
      " 18  total_liabilities_st     669 non-null    float64\n",
      " 19  total_liabilities_mt     669 non-null    float64\n",
      " 20  total_liabilities_lt     669 non-null    float64\n",
      " 21  bank_liabilities_st      317 non-null    float64\n",
      " 22  bank_liabilities_mt      186 non-null    float64\n",
      " 23  bank_liabilities_lt      124 non-null    float64\n",
      " 24  trade_payables_st        526 non-null    float64\n",
      " 25  trade_payables_mt        21 non-null     float64\n",
      " 26  trade_payables_lt        4 non-null      float64\n",
      " 27  bonds_payables_st        0 non-null      float64\n",
      " 28  bonds_payables_mt        5 non-null      float64\n",
      " 29  bonds_payables_lt        0 non-null      float64\n",
      " 30  total_equity             648 non-null    float64\n",
      " 31  current_assets           668 non-null    float64\n",
      " 32  monetary_current_assets  669 non-null    float64\n",
      " 33  cash                     637 non-null    float64\n",
      " 34  trade_receivables_st     314 non-null    float64\n",
      " 35  trade_receivables_lt     24 non-null     float64\n",
      " 36  cf_operating             668 non-null    float64\n",
      " 37  cf_investment            668 non-null    float64\n",
      " 38  cf_financing             668 non-null    float64\n",
      " 39  defn                     669 non-null    float64\n",
      "dtypes: bool(1), float64(34), int64(1), object(4)\n",
      "memory usage: 209.7+ KB\n"
     ]
    }
   ],
   "source": [
    "train.info()"
   ]
  },
  {
   "cell_type": "code",
   "execution_count": 6,
   "metadata": {
    "ExecuteTime": {
     "end_time": "2020-11-28T09:52:28.130327Z",
     "start_time": "2020-11-28T09:52:28.086793Z"
    },
    "scrolled": false
   },
   "outputs": [
    {
     "data": {
      "text/html": [
       "<div>\n",
       "<style scoped>\n",
       "    .dataframe tbody tr th:only-of-type {\n",
       "        vertical-align: middle;\n",
       "    }\n",
       "\n",
       "    .dataframe tbody tr th {\n",
       "        vertical-align: top;\n",
       "    }\n",
       "\n",
       "    .dataframe thead th {\n",
       "        text-align: right;\n",
       "    }\n",
       "</style>\n",
       "<table border=\"1\" class=\"dataframe\">\n",
       "  <thead>\n",
       "    <tr style=\"text-align: right;\">\n",
       "      <th></th>\n",
       "      <th>default</th>\n",
       "      <th>legal_form</th>\n",
       "      <th>zip_code</th>\n",
       "      <th>sector</th>\n",
       "      <th>year_inc</th>\n",
       "      <th>count_emp</th>\n",
       "      <th>type_pl</th>\n",
       "      <th>sales</th>\n",
       "      <th>gross_performance</th>\n",
       "      <th>gross_profit</th>\n",
       "      <th>earn_from_op</th>\n",
       "      <th>fin_result</th>\n",
       "      <th>oth_interest_inc</th>\n",
       "      <th>oth_interest_exp</th>\n",
       "      <th>result_from_ord_bus</th>\n",
       "      <th>total_result</th>\n",
       "      <th>annual_profit</th>\n",
       "      <th>total_assets</th>\n",
       "      <th>total_liabilities_st</th>\n",
       "      <th>total_liabilities_mt</th>\n",
       "      <th>total_liabilities_lt</th>\n",
       "      <th>bank_liabilities_st</th>\n",
       "      <th>bank_liabilities_mt</th>\n",
       "      <th>bank_liabilities_lt</th>\n",
       "      <th>trade_payables_st</th>\n",
       "      <th>trade_payables_mt</th>\n",
       "      <th>trade_payables_lt</th>\n",
       "      <th>bonds_payables_st</th>\n",
       "      <th>bonds_payables_mt</th>\n",
       "      <th>bonds_payables_lt</th>\n",
       "      <th>total_equity</th>\n",
       "      <th>current_assets</th>\n",
       "      <th>monetary_current_assets</th>\n",
       "      <th>cash</th>\n",
       "      <th>trade_receivables_st</th>\n",
       "      <th>trade_receivables_lt</th>\n",
       "      <th>cf_operating</th>\n",
       "      <th>cf_investment</th>\n",
       "      <th>cf_financing</th>\n",
       "      <th>defn</th>\n",
       "    </tr>\n",
       "    <tr>\n",
       "      <th>id</th>\n",
       "      <th></th>\n",
       "      <th></th>\n",
       "      <th></th>\n",
       "      <th></th>\n",
       "      <th></th>\n",
       "      <th></th>\n",
       "      <th></th>\n",
       "      <th></th>\n",
       "      <th></th>\n",
       "      <th></th>\n",
       "      <th></th>\n",
       "      <th></th>\n",
       "      <th></th>\n",
       "      <th></th>\n",
       "      <th></th>\n",
       "      <th></th>\n",
       "      <th></th>\n",
       "      <th></th>\n",
       "      <th></th>\n",
       "      <th></th>\n",
       "      <th></th>\n",
       "      <th></th>\n",
       "      <th></th>\n",
       "      <th></th>\n",
       "      <th></th>\n",
       "      <th></th>\n",
       "      <th></th>\n",
       "      <th></th>\n",
       "      <th></th>\n",
       "      <th></th>\n",
       "      <th></th>\n",
       "      <th></th>\n",
       "      <th></th>\n",
       "      <th></th>\n",
       "      <th></th>\n",
       "      <th></th>\n",
       "      <th></th>\n",
       "      <th></th>\n",
       "      <th></th>\n",
       "      <th></th>\n",
       "    </tr>\n",
       "  </thead>\n",
       "  <tbody>\n",
       "    <tr>\n",
       "      <th>C_405</th>\n",
       "      <td>False</td>\n",
       "      <td>GmbH &amp; Co. KG</td>\n",
       "      <td>12359</td>\n",
       "      <td>46730</td>\n",
       "      <td>1900</td>\n",
       "      <td>NaN</td>\n",
       "      <td>GKV</td>\n",
       "      <td>1.068738e+08</td>\n",
       "      <td>1.068738e+08</td>\n",
       "      <td>3.859361e+07</td>\n",
       "      <td>6.536078e+06</td>\n",
       "      <td>1.345910e+06</td>\n",
       "      <td>47945.82</td>\n",
       "      <td>423412.24</td>\n",
       "      <td>7.881988e+06</td>\n",
       "      <td>7.881988e+06</td>\n",
       "      <td>6.522577e+06</td>\n",
       "      <td>4.365848e+07</td>\n",
       "      <td>7.356606e+06</td>\n",
       "      <td>3.752194e+06</td>\n",
       "      <td>2.556459e+05</td>\n",
       "      <td>NaN</td>\n",
       "      <td>NaN</td>\n",
       "      <td>NaN</td>\n",
       "      <td>4120064.34</td>\n",
       "      <td>NaN</td>\n",
       "      <td>NaN</td>\n",
       "      <td>NaN</td>\n",
       "      <td>NaN</td>\n",
       "      <td>NaN</td>\n",
       "      <td>3.224471e+07</td>\n",
       "      <td>3.783199e+07</td>\n",
       "      <td>1.711147e+07</td>\n",
       "      <td>10297047.50</td>\n",
       "      <td>NaN</td>\n",
       "      <td>NaN</td>\n",
       "      <td>6.986094e+06</td>\n",
       "      <td>-1.112342e+06</td>\n",
       "      <td>-7520392.09</td>\n",
       "      <td>0.0</td>\n",
       "    </tr>\n",
       "    <tr>\n",
       "      <th>C_292</th>\n",
       "      <td>False</td>\n",
       "      <td>GmbH &amp; Co. KG</td>\n",
       "      <td>10719</td>\n",
       "      <td>70101</td>\n",
       "      <td>1976</td>\n",
       "      <td>NaN</td>\n",
       "      <td>GKV</td>\n",
       "      <td>1.393869e+06</td>\n",
       "      <td>1.407889e+06</td>\n",
       "      <td>1.539841e+06</td>\n",
       "      <td>3.814091e+04</td>\n",
       "      <td>1.072010e+06</td>\n",
       "      <td>9934.29</td>\n",
       "      <td>4372.31</td>\n",
       "      <td>1.110150e+06</td>\n",
       "      <td>1.106813e+06</td>\n",
       "      <td>1.116985e+06</td>\n",
       "      <td>1.156799e+07</td>\n",
       "      <td>7.034964e+06</td>\n",
       "      <td>0.000000e+00</td>\n",
       "      <td>0.000000e+00</td>\n",
       "      <td>NaN</td>\n",
       "      <td>NaN</td>\n",
       "      <td>NaN</td>\n",
       "      <td>NaN</td>\n",
       "      <td>NaN</td>\n",
       "      <td>NaN</td>\n",
       "      <td>NaN</td>\n",
       "      <td>NaN</td>\n",
       "      <td>NaN</td>\n",
       "      <td>4.508026e+06</td>\n",
       "      <td>4.669179e+06</td>\n",
       "      <td>9.278377e+05</td>\n",
       "      <td>926383.75</td>\n",
       "      <td>NaN</td>\n",
       "      <td>NaN</td>\n",
       "      <td>-4.343980e+06</td>\n",
       "      <td>1.174427e+06</td>\n",
       "      <td>1128108.08</td>\n",
       "      <td>0.0</td>\n",
       "    </tr>\n",
       "    <tr>\n",
       "      <th>C_746</th>\n",
       "      <td>False</td>\n",
       "      <td>GmbH</td>\n",
       "      <td>13353</td>\n",
       "      <td>87100</td>\n",
       "      <td>1962</td>\n",
       "      <td>323.0</td>\n",
       "      <td>GKV</td>\n",
       "      <td>3.864034e+06</td>\n",
       "      <td>7.597353e+05</td>\n",
       "      <td>1.500839e+07</td>\n",
       "      <td>8.979980e+04</td>\n",
       "      <td>2.983440e+03</td>\n",
       "      <td>2983.44</td>\n",
       "      <td>NaN</td>\n",
       "      <td>9.278324e+04</td>\n",
       "      <td>9.278324e+04</td>\n",
       "      <td>-1.400000e-09</td>\n",
       "      <td>5.511145e+07</td>\n",
       "      <td>8.443592e+06</td>\n",
       "      <td>1.401615e+04</td>\n",
       "      <td>0.000000e+00</td>\n",
       "      <td>NaN</td>\n",
       "      <td>NaN</td>\n",
       "      <td>NaN</td>\n",
       "      <td>5348013.09</td>\n",
       "      <td>NaN</td>\n",
       "      <td>NaN</td>\n",
       "      <td>NaN</td>\n",
       "      <td>NaN</td>\n",
       "      <td>NaN</td>\n",
       "      <td>5.164048e+04</td>\n",
       "      <td>2.810119e+07</td>\n",
       "      <td>1.111696e+07</td>\n",
       "      <td>9146283.79</td>\n",
       "      <td>617816.28</td>\n",
       "      <td>NaN</td>\n",
       "      <td>9.548544e+06</td>\n",
       "      <td>-7.536444e+06</td>\n",
       "      <td>-22026.07</td>\n",
       "      <td>0.0</td>\n",
       "    </tr>\n",
       "    <tr>\n",
       "      <th>C_838</th>\n",
       "      <td>False</td>\n",
       "      <td>AG</td>\n",
       "      <td>12529</td>\n",
       "      <td>68320</td>\n",
       "      <td>1972</td>\n",
       "      <td>1.0</td>\n",
       "      <td>GKV</td>\n",
       "      <td>4.384786e+06</td>\n",
       "      <td>4.405058e+06</td>\n",
       "      <td>3.293227e+07</td>\n",
       "      <td>5.843150e+05</td>\n",
       "      <td>2.235095e+04</td>\n",
       "      <td>24560.96</td>\n",
       "      <td>2210.01</td>\n",
       "      <td>6.066660e+05</td>\n",
       "      <td>6.066660e+05</td>\n",
       "      <td>5.946089e+05</td>\n",
       "      <td>1.994848e+07</td>\n",
       "      <td>2.579710e+06</td>\n",
       "      <td>8.160722e+04</td>\n",
       "      <td>1.319019e+05</td>\n",
       "      <td>25391.33</td>\n",
       "      <td>4.560722e+04</td>\n",
       "      <td>NaN</td>\n",
       "      <td>480218.47</td>\n",
       "      <td>NaN</td>\n",
       "      <td>NaN</td>\n",
       "      <td>NaN</td>\n",
       "      <td>NaN</td>\n",
       "      <td>NaN</td>\n",
       "      <td>1.182011e+07</td>\n",
       "      <td>8.238474e+06</td>\n",
       "      <td>7.519183e+06</td>\n",
       "      <td>6890565.23</td>\n",
       "      <td>319848.26</td>\n",
       "      <td>NaN</td>\n",
       "      <td>1.715799e+06</td>\n",
       "      <td>-6.561222e+05</td>\n",
       "      <td>-169655.66</td>\n",
       "      <td>0.0</td>\n",
       "    </tr>\n",
       "    <tr>\n",
       "      <th>C_495</th>\n",
       "      <td>False</td>\n",
       "      <td>Einzelfirma</td>\n",
       "      <td>12165</td>\n",
       "      <td>47730</td>\n",
       "      <td>1908</td>\n",
       "      <td>NaN</td>\n",
       "      <td>GKV</td>\n",
       "      <td>1.104478e+08</td>\n",
       "      <td>1.104478e+08</td>\n",
       "      <td>1.254550e+08</td>\n",
       "      <td>5.403381e+07</td>\n",
       "      <td>-1.029321e+07</td>\n",
       "      <td>62152.95</td>\n",
       "      <td>10641194.38</td>\n",
       "      <td>4.374060e+07</td>\n",
       "      <td>4.374060e+07</td>\n",
       "      <td>2.840600e+07</td>\n",
       "      <td>1.089218e+09</td>\n",
       "      <td>3.475160e+08</td>\n",
       "      <td>1.647352e+08</td>\n",
       "      <td>9.222217e+07</td>\n",
       "      <td>37432969.20</td>\n",
       "      <td>1.381920e+08</td>\n",
       "      <td>9.222217e+07</td>\n",
       "      <td>13968005.91</td>\n",
       "      <td>NaN</td>\n",
       "      <td>NaN</td>\n",
       "      <td>NaN</td>\n",
       "      <td>NaN</td>\n",
       "      <td>NaN</td>\n",
       "      <td>4.547445e+08</td>\n",
       "      <td>3.546565e+07</td>\n",
       "      <td>8.545184e+06</td>\n",
       "      <td>5036615.09</td>\n",
       "      <td>516646.73</td>\n",
       "      <td>NaN</td>\n",
       "      <td>1.301809e+08</td>\n",
       "      <td>-1.419776e+08</td>\n",
       "      <td>12567030.80</td>\n",
       "      <td>0.0</td>\n",
       "    </tr>\n",
       "    <tr>\n",
       "      <th>C_494</th>\n",
       "      <td>False</td>\n",
       "      <td>GmbH</td>\n",
       "      <td>13055</td>\n",
       "      <td>68201</td>\n",
       "      <td>1990</td>\n",
       "      <td>415.0</td>\n",
       "      <td>GKV</td>\n",
       "      <td>4.518042e+04</td>\n",
       "      <td>4.518042e+04</td>\n",
       "      <td>4.847705e+04</td>\n",
       "      <td>2.238291e+04</td>\n",
       "      <td>1.476500e+02</td>\n",
       "      <td>NaN</td>\n",
       "      <td>2.77</td>\n",
       "      <td>2.253056e+04</td>\n",
       "      <td>2.253056e+04</td>\n",
       "      <td>1.552286e+04</td>\n",
       "      <td>8.519500e+04</td>\n",
       "      <td>5.661130e+03</td>\n",
       "      <td>0.000000e+00</td>\n",
       "      <td>0.000000e+00</td>\n",
       "      <td>NaN</td>\n",
       "      <td>NaN</td>\n",
       "      <td>NaN</td>\n",
       "      <td>NaN</td>\n",
       "      <td>NaN</td>\n",
       "      <td>NaN</td>\n",
       "      <td>NaN</td>\n",
       "      <td>NaN</td>\n",
       "      <td>NaN</td>\n",
       "      <td>7.953387e+04</td>\n",
       "      <td>8.484770e+04</td>\n",
       "      <td>8.061511e+04</td>\n",
       "      <td>75679.79</td>\n",
       "      <td>NaN</td>\n",
       "      <td>NaN</td>\n",
       "      <td>1.800497e+04</td>\n",
       "      <td>-3.787100e+02</td>\n",
       "      <td>0.00</td>\n",
       "      <td>0.0</td>\n",
       "    </tr>\n",
       "    <tr>\n",
       "      <th>C_300</th>\n",
       "      <td>False</td>\n",
       "      <td>GmbH</td>\n",
       "      <td>10969</td>\n",
       "      <td>68200</td>\n",
       "      <td>1991</td>\n",
       "      <td>2.0</td>\n",
       "      <td>GKV</td>\n",
       "      <td>1.508435e+08</td>\n",
       "      <td>1.479894e+08</td>\n",
       "      <td>1.076359e+08</td>\n",
       "      <td>4.729300e+07</td>\n",
       "      <td>-6.693591e+06</td>\n",
       "      <td>73961.45</td>\n",
       "      <td>11414398.77</td>\n",
       "      <td>4.059941e+07</td>\n",
       "      <td>4.059941e+07</td>\n",
       "      <td>2.946995e+07</td>\n",
       "      <td>1.026295e+09</td>\n",
       "      <td>1.016720e+08</td>\n",
       "      <td>1.087618e+08</td>\n",
       "      <td>1.501236e+08</td>\n",
       "      <td>26577708.38</td>\n",
       "      <td>1.086147e+08</td>\n",
       "      <td>1.501236e+08</td>\n",
       "      <td>2949596.57</td>\n",
       "      <td>147121.35</td>\n",
       "      <td>NaN</td>\n",
       "      <td>NaN</td>\n",
       "      <td>NaN</td>\n",
       "      <td>NaN</td>\n",
       "      <td>6.657375e+08</td>\n",
       "      <td>8.479909e+07</td>\n",
       "      <td>3.142807e+07</td>\n",
       "      <td>11542490.91</td>\n",
       "      <td>326731.07</td>\n",
       "      <td>8000.0</td>\n",
       "      <td>4.007555e+07</td>\n",
       "      <td>-8.337054e+06</td>\n",
       "      <td>-34594274.52</td>\n",
       "      <td>0.0</td>\n",
       "    </tr>\n",
       "    <tr>\n",
       "      <th>C_453</th>\n",
       "      <td>False</td>\n",
       "      <td>GmbH</td>\n",
       "      <td>16792</td>\n",
       "      <td>78100</td>\n",
       "      <td>1991</td>\n",
       "      <td>NaN</td>\n",
       "      <td>GKV</td>\n",
       "      <td>2.843420e+08</td>\n",
       "      <td>2.843420e+08</td>\n",
       "      <td>4.233500e+07</td>\n",
       "      <td>-1.340470e+08</td>\n",
       "      <td>8.108910e+08</td>\n",
       "      <td>891000.00</td>\n",
       "      <td>15925000.00</td>\n",
       "      <td>6.768440e+08</td>\n",
       "      <td>6.768440e+08</td>\n",
       "      <td>6.342260e+08</td>\n",
       "      <td>3.202392e+09</td>\n",
       "      <td>2.851710e+08</td>\n",
       "      <td>5.035000e+05</td>\n",
       "      <td>0.000000e+00</td>\n",
       "      <td>382000.00</td>\n",
       "      <td>NaN</td>\n",
       "      <td>NaN</td>\n",
       "      <td>6790000.00</td>\n",
       "      <td>NaN</td>\n",
       "      <td>NaN</td>\n",
       "      <td>NaN</td>\n",
       "      <td>NaN</td>\n",
       "      <td>NaN</td>\n",
       "      <td>2.883814e+09</td>\n",
       "      <td>4.229090e+08</td>\n",
       "      <td>4.312550e+08</td>\n",
       "      <td>21696000.00</td>\n",
       "      <td>448000.00</td>\n",
       "      <td>NaN</td>\n",
       "      <td>5.861770e+08</td>\n",
       "      <td>-7.339750e+08</td>\n",
       "      <td>-95826000.00</td>\n",
       "      <td>0.0</td>\n",
       "    </tr>\n",
       "    <tr>\n",
       "      <th>C_924</th>\n",
       "      <td>False</td>\n",
       "      <td>GmbH</td>\n",
       "      <td>13125</td>\n",
       "      <td>86101</td>\n",
       "      <td>1991</td>\n",
       "      <td>283.0</td>\n",
       "      <td>GKV</td>\n",
       "      <td>9.811591e+06</td>\n",
       "      <td>9.681040e+06</td>\n",
       "      <td>6.110980e+06</td>\n",
       "      <td>3.785872e+06</td>\n",
       "      <td>-3.041576e+06</td>\n",
       "      <td>158111.31</td>\n",
       "      <td>3199687.45</td>\n",
       "      <td>7.442963e+05</td>\n",
       "      <td>7.442963e+05</td>\n",
       "      <td>1.050000e-09</td>\n",
       "      <td>9.546664e+07</td>\n",
       "      <td>1.866104e+07</td>\n",
       "      <td>4.262100e+07</td>\n",
       "      <td>1.385492e+07</td>\n",
       "      <td>14820000.00</td>\n",
       "      <td>4.175000e+07</td>\n",
       "      <td>9.061443e+06</td>\n",
       "      <td>229715.96</td>\n",
       "      <td>NaN</td>\n",
       "      <td>NaN</td>\n",
       "      <td>NaN</td>\n",
       "      <td>NaN</td>\n",
       "      <td>NaN</td>\n",
       "      <td>2.032968e+07</td>\n",
       "      <td>7.366730e+06</td>\n",
       "      <td>5.421665e+06</td>\n",
       "      <td>322573.88</td>\n",
       "      <td>372298.68</td>\n",
       "      <td>NaN</td>\n",
       "      <td>4.369386e+05</td>\n",
       "      <td>-1.879056e+06</td>\n",
       "      <td>-13729379.17</td>\n",
       "      <td>0.0</td>\n",
       "    </tr>\n",
       "    <tr>\n",
       "      <th>C_976</th>\n",
       "      <td>False</td>\n",
       "      <td>GmbH</td>\n",
       "      <td>12681</td>\n",
       "      <td>71122</td>\n",
       "      <td>1999</td>\n",
       "      <td>NaN</td>\n",
       "      <td>GKV</td>\n",
       "      <td>1.384595e+05</td>\n",
       "      <td>1.384595e+05</td>\n",
       "      <td>3.147030e+05</td>\n",
       "      <td>1.704879e+05</td>\n",
       "      <td>-1.878610e+03</td>\n",
       "      <td>21980.74</td>\n",
       "      <td>23859.35</td>\n",
       "      <td>1.686093e+05</td>\n",
       "      <td>1.686093e+05</td>\n",
       "      <td>1.635424e+05</td>\n",
       "      <td>2.250866e+06</td>\n",
       "      <td>6.980612e+05</td>\n",
       "      <td>0.000000e+00</td>\n",
       "      <td>0.000000e+00</td>\n",
       "      <td>350566.80</td>\n",
       "      <td>NaN</td>\n",
       "      <td>NaN</td>\n",
       "      <td>689.06</td>\n",
       "      <td>NaN</td>\n",
       "      <td>NaN</td>\n",
       "      <td>NaN</td>\n",
       "      <td>NaN</td>\n",
       "      <td>NaN</td>\n",
       "      <td>1.552805e+06</td>\n",
       "      <td>4.966969e+05</td>\n",
       "      <td>4.500943e+04</td>\n",
       "      <td>35726.57</td>\n",
       "      <td>NaN</td>\n",
       "      <td>NaN</td>\n",
       "      <td>1.947540e+05</td>\n",
       "      <td>3.318306e+05</td>\n",
       "      <td>-798859.83</td>\n",
       "      <td>0.0</td>\n",
       "    </tr>\n",
       "  </tbody>\n",
       "</table>\n",
       "</div>"
      ],
      "text/plain": [
       "       default     legal_form zip_code sector  year_inc  count_emp type_pl         sales  gross_performance  gross_profit  earn_from_op    fin_result  oth_interest_inc  oth_interest_exp  result_from_ord_bus  total_result  annual_profit  total_assets  total_liabilities_st  total_liabilities_mt  total_liabilities_lt  bank_liabilities_st  bank_liabilities_mt  bank_liabilities_lt  trade_payables_st  trade_payables_mt  trade_payables_lt  bonds_payables_st  bonds_payables_mt  bonds_payables_lt  total_equity  current_assets  monetary_current_assets         cash  trade_receivables_st  trade_receivables_lt  cf_operating  cf_investment  cf_financing  defn\n",
       "id                                                                                                                                                                                                                                                                                                                                                                                                                                                                                                                                                                                                                                                                           \n",
       "C_405    False  GmbH & Co. KG    12359  46730      1900        NaN     GKV  1.068738e+08       1.068738e+08  3.859361e+07  6.536078e+06  1.345910e+06          47945.82         423412.24         7.881988e+06  7.881988e+06   6.522577e+06  4.365848e+07          7.356606e+06          3.752194e+06          2.556459e+05                  NaN                  NaN                  NaN         4120064.34                NaN                NaN                NaN                NaN                NaN  3.224471e+07    3.783199e+07             1.711147e+07  10297047.50                   NaN                   NaN  6.986094e+06  -1.112342e+06   -7520392.09   0.0\n",
       "C_292    False  GmbH & Co. KG    10719  70101      1976        NaN     GKV  1.393869e+06       1.407889e+06  1.539841e+06  3.814091e+04  1.072010e+06           9934.29           4372.31         1.110150e+06  1.106813e+06   1.116985e+06  1.156799e+07          7.034964e+06          0.000000e+00          0.000000e+00                  NaN                  NaN                  NaN                NaN                NaN                NaN                NaN                NaN                NaN  4.508026e+06    4.669179e+06             9.278377e+05    926383.75                   NaN                   NaN -4.343980e+06   1.174427e+06    1128108.08   0.0\n",
       "C_746    False           GmbH    13353  87100      1962      323.0     GKV  3.864034e+06       7.597353e+05  1.500839e+07  8.979980e+04  2.983440e+03           2983.44               NaN         9.278324e+04  9.278324e+04  -1.400000e-09  5.511145e+07          8.443592e+06          1.401615e+04          0.000000e+00                  NaN                  NaN                  NaN         5348013.09                NaN                NaN                NaN                NaN                NaN  5.164048e+04    2.810119e+07             1.111696e+07   9146283.79             617816.28                   NaN  9.548544e+06  -7.536444e+06     -22026.07   0.0\n",
       "C_838    False             AG    12529  68320      1972        1.0     GKV  4.384786e+06       4.405058e+06  3.293227e+07  5.843150e+05  2.235095e+04          24560.96           2210.01         6.066660e+05  6.066660e+05   5.946089e+05  1.994848e+07          2.579710e+06          8.160722e+04          1.319019e+05             25391.33         4.560722e+04                  NaN          480218.47                NaN                NaN                NaN                NaN                NaN  1.182011e+07    8.238474e+06             7.519183e+06   6890565.23             319848.26                   NaN  1.715799e+06  -6.561222e+05    -169655.66   0.0\n",
       "C_495    False    Einzelfirma    12165  47730      1908        NaN     GKV  1.104478e+08       1.104478e+08  1.254550e+08  5.403381e+07 -1.029321e+07          62152.95       10641194.38         4.374060e+07  4.374060e+07   2.840600e+07  1.089218e+09          3.475160e+08          1.647352e+08          9.222217e+07          37432969.20         1.381920e+08         9.222217e+07        13968005.91                NaN                NaN                NaN                NaN                NaN  4.547445e+08    3.546565e+07             8.545184e+06   5036615.09             516646.73                   NaN  1.301809e+08  -1.419776e+08   12567030.80   0.0\n",
       "C_494    False           GmbH    13055  68201      1990      415.0     GKV  4.518042e+04       4.518042e+04  4.847705e+04  2.238291e+04  1.476500e+02               NaN              2.77         2.253056e+04  2.253056e+04   1.552286e+04  8.519500e+04          5.661130e+03          0.000000e+00          0.000000e+00                  NaN                  NaN                  NaN                NaN                NaN                NaN                NaN                NaN                NaN  7.953387e+04    8.484770e+04             8.061511e+04     75679.79                   NaN                   NaN  1.800497e+04  -3.787100e+02          0.00   0.0\n",
       "C_300    False           GmbH    10969  68200      1991        2.0     GKV  1.508435e+08       1.479894e+08  1.076359e+08  4.729300e+07 -6.693591e+06          73961.45       11414398.77         4.059941e+07  4.059941e+07   2.946995e+07  1.026295e+09          1.016720e+08          1.087618e+08          1.501236e+08          26577708.38         1.086147e+08         1.501236e+08         2949596.57          147121.35                NaN                NaN                NaN                NaN  6.657375e+08    8.479909e+07             3.142807e+07  11542490.91             326731.07                8000.0  4.007555e+07  -8.337054e+06  -34594274.52   0.0\n",
       "C_453    False           GmbH    16792  78100      1991        NaN     GKV  2.843420e+08       2.843420e+08  4.233500e+07 -1.340470e+08  8.108910e+08         891000.00       15925000.00         6.768440e+08  6.768440e+08   6.342260e+08  3.202392e+09          2.851710e+08          5.035000e+05          0.000000e+00            382000.00                  NaN                  NaN         6790000.00                NaN                NaN                NaN                NaN                NaN  2.883814e+09    4.229090e+08             4.312550e+08  21696000.00             448000.00                   NaN  5.861770e+08  -7.339750e+08  -95826000.00   0.0\n",
       "C_924    False           GmbH    13125  86101      1991      283.0     GKV  9.811591e+06       9.681040e+06  6.110980e+06  3.785872e+06 -3.041576e+06         158111.31        3199687.45         7.442963e+05  7.442963e+05   1.050000e-09  9.546664e+07          1.866104e+07          4.262100e+07          1.385492e+07          14820000.00         4.175000e+07         9.061443e+06          229715.96                NaN                NaN                NaN                NaN                NaN  2.032968e+07    7.366730e+06             5.421665e+06    322573.88             372298.68                   NaN  4.369386e+05  -1.879056e+06  -13729379.17   0.0\n",
       "C_976    False           GmbH    12681  71122      1999        NaN     GKV  1.384595e+05       1.384595e+05  3.147030e+05  1.704879e+05 -1.878610e+03          21980.74          23859.35         1.686093e+05  1.686093e+05   1.635424e+05  2.250866e+06          6.980612e+05          0.000000e+00          0.000000e+00            350566.80                  NaN                  NaN             689.06                NaN                NaN                NaN                NaN                NaN  1.552805e+06    4.966969e+05             4.500943e+04     35726.57                   NaN                   NaN  1.947540e+05   3.318306e+05    -798859.83   0.0"
      ]
     },
     "execution_count": 6,
     "metadata": {},
     "output_type": "execute_result"
    }
   ],
   "source": [
    "train.head(10)"
   ]
  },
  {
   "cell_type": "markdown",
   "metadata": {},
   "source": [
    "Missing values in the dataset to train the model"
   ]
  },
  {
   "cell_type": "code",
   "execution_count": 7,
   "metadata": {
    "ExecuteTime": {
     "end_time": "2020-11-28T09:52:30.692659Z",
     "start_time": "2020-11-28T09:52:30.669638Z"
    }
   },
   "outputs": [
    {
     "data": {
      "text/html": [
       "<div>\n",
       "<style scoped>\n",
       "    .dataframe tbody tr th:only-of-type {\n",
       "        vertical-align: middle;\n",
       "    }\n",
       "\n",
       "    .dataframe tbody tr th {\n",
       "        vertical-align: top;\n",
       "    }\n",
       "\n",
       "    .dataframe thead th {\n",
       "        text-align: right;\n",
       "    }\n",
       "</style>\n",
       "<table border=\"1\" class=\"dataframe\">\n",
       "  <thead>\n",
       "    <tr style=\"text-align: right;\">\n",
       "      <th></th>\n",
       "      <th>Valid</th>\n",
       "      <th>NAs</th>\n",
       "      <th>NAs of total</th>\n",
       "    </tr>\n",
       "  </thead>\n",
       "  <tbody>\n",
       "    <tr>\n",
       "      <th>bonds_payables_lt</th>\n",
       "      <td>0</td>\n",
       "      <td>669</td>\n",
       "      <td>1.000000</td>\n",
       "    </tr>\n",
       "    <tr>\n",
       "      <th>bonds_payables_st</th>\n",
       "      <td>0</td>\n",
       "      <td>669</td>\n",
       "      <td>1.000000</td>\n",
       "    </tr>\n",
       "    <tr>\n",
       "      <th>trade_payables_lt</th>\n",
       "      <td>4</td>\n",
       "      <td>665</td>\n",
       "      <td>0.994021</td>\n",
       "    </tr>\n",
       "    <tr>\n",
       "      <th>bonds_payables_mt</th>\n",
       "      <td>5</td>\n",
       "      <td>664</td>\n",
       "      <td>0.992526</td>\n",
       "    </tr>\n",
       "    <tr>\n",
       "      <th>trade_payables_mt</th>\n",
       "      <td>21</td>\n",
       "      <td>648</td>\n",
       "      <td>0.968610</td>\n",
       "    </tr>\n",
       "    <tr>\n",
       "      <th>trade_receivables_lt</th>\n",
       "      <td>24</td>\n",
       "      <td>645</td>\n",
       "      <td>0.964126</td>\n",
       "    </tr>\n",
       "    <tr>\n",
       "      <th>bank_liabilities_lt</th>\n",
       "      <td>124</td>\n",
       "      <td>545</td>\n",
       "      <td>0.814649</td>\n",
       "    </tr>\n",
       "    <tr>\n",
       "      <th>bank_liabilities_mt</th>\n",
       "      <td>186</td>\n",
       "      <td>483</td>\n",
       "      <td>0.721973</td>\n",
       "    </tr>\n",
       "    <tr>\n",
       "      <th>trade_receivables_st</th>\n",
       "      <td>314</td>\n",
       "      <td>355</td>\n",
       "      <td>0.530643</td>\n",
       "    </tr>\n",
       "    <tr>\n",
       "      <th>count_emp</th>\n",
       "      <td>316</td>\n",
       "      <td>353</td>\n",
       "      <td>0.527653</td>\n",
       "    </tr>\n",
       "    <tr>\n",
       "      <th>bank_liabilities_st</th>\n",
       "      <td>317</td>\n",
       "      <td>352</td>\n",
       "      <td>0.526158</td>\n",
       "    </tr>\n",
       "    <tr>\n",
       "      <th>trade_payables_st</th>\n",
       "      <td>526</td>\n",
       "      <td>143</td>\n",
       "      <td>0.213752</td>\n",
       "    </tr>\n",
       "    <tr>\n",
       "      <th>oth_interest_inc</th>\n",
       "      <td>542</td>\n",
       "      <td>127</td>\n",
       "      <td>0.189836</td>\n",
       "    </tr>\n",
       "    <tr>\n",
       "      <th>oth_interest_exp</th>\n",
       "      <td>607</td>\n",
       "      <td>62</td>\n",
       "      <td>0.092676</td>\n",
       "    </tr>\n",
       "    <tr>\n",
       "      <th>cash</th>\n",
       "      <td>637</td>\n",
       "      <td>32</td>\n",
       "      <td>0.047833</td>\n",
       "    </tr>\n",
       "    <tr>\n",
       "      <th>fin_result</th>\n",
       "      <td>647</td>\n",
       "      <td>22</td>\n",
       "      <td>0.032885</td>\n",
       "    </tr>\n",
       "    <tr>\n",
       "      <th>total_equity</th>\n",
       "      <td>648</td>\n",
       "      <td>21</td>\n",
       "      <td>0.031390</td>\n",
       "    </tr>\n",
       "    <tr>\n",
       "      <th>gross_performance</th>\n",
       "      <td>662</td>\n",
       "      <td>7</td>\n",
       "      <td>0.010463</td>\n",
       "    </tr>\n",
       "    <tr>\n",
       "      <th>gross_profit</th>\n",
       "      <td>662</td>\n",
       "      <td>7</td>\n",
       "      <td>0.010463</td>\n",
       "    </tr>\n",
       "    <tr>\n",
       "      <th>earn_from_op</th>\n",
       "      <td>668</td>\n",
       "      <td>1</td>\n",
       "      <td>0.001495</td>\n",
       "    </tr>\n",
       "    <tr>\n",
       "      <th>current_assets</th>\n",
       "      <td>668</td>\n",
       "      <td>1</td>\n",
       "      <td>0.001495</td>\n",
       "    </tr>\n",
       "    <tr>\n",
       "      <th>cf_financing</th>\n",
       "      <td>668</td>\n",
       "      <td>1</td>\n",
       "      <td>0.001495</td>\n",
       "    </tr>\n",
       "    <tr>\n",
       "      <th>total_assets</th>\n",
       "      <td>668</td>\n",
       "      <td>1</td>\n",
       "      <td>0.001495</td>\n",
       "    </tr>\n",
       "    <tr>\n",
       "      <th>sales</th>\n",
       "      <td>668</td>\n",
       "      <td>1</td>\n",
       "      <td>0.001495</td>\n",
       "    </tr>\n",
       "    <tr>\n",
       "      <th>annual_profit</th>\n",
       "      <td>668</td>\n",
       "      <td>1</td>\n",
       "      <td>0.001495</td>\n",
       "    </tr>\n",
       "    <tr>\n",
       "      <th>result_from_ord_bus</th>\n",
       "      <td>668</td>\n",
       "      <td>1</td>\n",
       "      <td>0.001495</td>\n",
       "    </tr>\n",
       "    <tr>\n",
       "      <th>cf_operating</th>\n",
       "      <td>668</td>\n",
       "      <td>1</td>\n",
       "      <td>0.001495</td>\n",
       "    </tr>\n",
       "    <tr>\n",
       "      <th>cf_investment</th>\n",
       "      <td>668</td>\n",
       "      <td>1</td>\n",
       "      <td>0.001495</td>\n",
       "    </tr>\n",
       "    <tr>\n",
       "      <th>monetary_current_assets</th>\n",
       "      <td>669</td>\n",
       "      <td>0</td>\n",
       "      <td>0.000000</td>\n",
       "    </tr>\n",
       "    <tr>\n",
       "      <th>default</th>\n",
       "      <td>669</td>\n",
       "      <td>0</td>\n",
       "      <td>0.000000</td>\n",
       "    </tr>\n",
       "    <tr>\n",
       "      <th>total_liabilities_lt</th>\n",
       "      <td>669</td>\n",
       "      <td>0</td>\n",
       "      <td>0.000000</td>\n",
       "    </tr>\n",
       "    <tr>\n",
       "      <th>legal_form</th>\n",
       "      <td>669</td>\n",
       "      <td>0</td>\n",
       "      <td>0.000000</td>\n",
       "    </tr>\n",
       "    <tr>\n",
       "      <th>total_liabilities_mt</th>\n",
       "      <td>669</td>\n",
       "      <td>0</td>\n",
       "      <td>0.000000</td>\n",
       "    </tr>\n",
       "    <tr>\n",
       "      <th>total_liabilities_st</th>\n",
       "      <td>669</td>\n",
       "      <td>0</td>\n",
       "      <td>0.000000</td>\n",
       "    </tr>\n",
       "    <tr>\n",
       "      <th>total_result</th>\n",
       "      <td>669</td>\n",
       "      <td>0</td>\n",
       "      <td>0.000000</td>\n",
       "    </tr>\n",
       "    <tr>\n",
       "      <th>type_pl</th>\n",
       "      <td>669</td>\n",
       "      <td>0</td>\n",
       "      <td>0.000000</td>\n",
       "    </tr>\n",
       "    <tr>\n",
       "      <th>year_inc</th>\n",
       "      <td>669</td>\n",
       "      <td>0</td>\n",
       "      <td>0.000000</td>\n",
       "    </tr>\n",
       "    <tr>\n",
       "      <th>sector</th>\n",
       "      <td>669</td>\n",
       "      <td>0</td>\n",
       "      <td>0.000000</td>\n",
       "    </tr>\n",
       "    <tr>\n",
       "      <th>zip_code</th>\n",
       "      <td>669</td>\n",
       "      <td>0</td>\n",
       "      <td>0.000000</td>\n",
       "    </tr>\n",
       "    <tr>\n",
       "      <th>defn</th>\n",
       "      <td>669</td>\n",
       "      <td>0</td>\n",
       "      <td>0.000000</td>\n",
       "    </tr>\n",
       "  </tbody>\n",
       "</table>\n",
       "</div>"
      ],
      "text/plain": [
       "                         Valid  NAs  NAs of total\n",
       "bonds_payables_lt            0  669      1.000000\n",
       "bonds_payables_st            0  669      1.000000\n",
       "trade_payables_lt            4  665      0.994021\n",
       "bonds_payables_mt            5  664      0.992526\n",
       "trade_payables_mt           21  648      0.968610\n",
       "trade_receivables_lt        24  645      0.964126\n",
       "bank_liabilities_lt        124  545      0.814649\n",
       "bank_liabilities_mt        186  483      0.721973\n",
       "trade_receivables_st       314  355      0.530643\n",
       "count_emp                  316  353      0.527653\n",
       "bank_liabilities_st        317  352      0.526158\n",
       "trade_payables_st          526  143      0.213752\n",
       "oth_interest_inc           542  127      0.189836\n",
       "oth_interest_exp           607   62      0.092676\n",
       "cash                       637   32      0.047833\n",
       "fin_result                 647   22      0.032885\n",
       "total_equity               648   21      0.031390\n",
       "gross_performance          662    7      0.010463\n",
       "gross_profit               662    7      0.010463\n",
       "earn_from_op               668    1      0.001495\n",
       "current_assets             668    1      0.001495\n",
       "cf_financing               668    1      0.001495\n",
       "total_assets               668    1      0.001495\n",
       "sales                      668    1      0.001495\n",
       "annual_profit              668    1      0.001495\n",
       "result_from_ord_bus        668    1      0.001495\n",
       "cf_operating               668    1      0.001495\n",
       "cf_investment              668    1      0.001495\n",
       "monetary_current_assets    669    0      0.000000\n",
       "default                    669    0      0.000000\n",
       "total_liabilities_lt       669    0      0.000000\n",
       "legal_form                 669    0      0.000000\n",
       "total_liabilities_mt       669    0      0.000000\n",
       "total_liabilities_st       669    0      0.000000\n",
       "total_result               669    0      0.000000\n",
       "type_pl                    669    0      0.000000\n",
       "year_inc                   669    0      0.000000\n",
       "sector                     669    0      0.000000\n",
       "zip_code                   669    0      0.000000\n",
       "defn                       669    0      0.000000"
      ]
     },
     "execution_count": 7,
     "metadata": {},
     "output_type": "execute_result"
    }
   ],
   "source": [
    "pd.DataFrame({'Valid': train.notnull().sum(), \n",
    "              'NAs': train.isnull().sum(), \n",
    "              'NAs of total': train.isnull().sum() / train.shape[0]}\n",
    "            ).sort_values('NAs of total', ascending=False)"
   ]
  },
  {
   "cell_type": "markdown",
   "metadata": {
    "hide_input": true,
    "solution2": "shown",
    "solution2_first": true
   },
   "source": [
    "**Question**\n",
    "\n",
    "About 53 % of all companies in the training dataset have the number of employee count not available. What can you do, if you want check whether the missingness is related to defaults"
   ]
  },
  {
   "cell_type": "code",
   "execution_count": 73,
   "metadata": {
    "ExecuteTime": {
     "end_time": "2020-11-28T08:06:57.887595Z",
     "start_time": "2020-11-28T08:06:57.874592Z"
    },
    "scrolled": true,
    "solution2": "shown"
   },
   "outputs": [
    {
     "data": {
      "text/html": [
       "<div>\n",
       "<style scoped>\n",
       "    .dataframe tbody tr th:only-of-type {\n",
       "        vertical-align: middle;\n",
       "    }\n",
       "\n",
       "    .dataframe tbody tr th {\n",
       "        vertical-align: top;\n",
       "    }\n",
       "\n",
       "    .dataframe thead th {\n",
       "        text-align: right;\n",
       "    }\n",
       "</style>\n",
       "<table border=\"1\" class=\"dataframe\">\n",
       "  <thead>\n",
       "    <tr style=\"text-align: right;\">\n",
       "      <th></th>\n",
       "      <th>count</th>\n",
       "      <th>unique</th>\n",
       "      <th>top</th>\n",
       "      <th>freq</th>\n",
       "      <th>Def</th>\n",
       "      <th>Avg</th>\n",
       "    </tr>\n",
       "    <tr>\n",
       "      <th>IsMissing</th>\n",
       "      <th></th>\n",
       "      <th></th>\n",
       "      <th></th>\n",
       "      <th></th>\n",
       "      <th></th>\n",
       "      <th></th>\n",
       "    </tr>\n",
       "  </thead>\n",
       "  <tbody>\n",
       "    <tr>\n",
       "      <th>False</th>\n",
       "      <td>316</td>\n",
       "      <td>2</td>\n",
       "      <td>False</td>\n",
       "      <td>301</td>\n",
       "      <td>15</td>\n",
       "      <td>0.0474684</td>\n",
       "    </tr>\n",
       "    <tr>\n",
       "      <th>True</th>\n",
       "      <td>353</td>\n",
       "      <td>2</td>\n",
       "      <td>False</td>\n",
       "      <td>330</td>\n",
       "      <td>23</td>\n",
       "      <td>0.0651558</td>\n",
       "    </tr>\n",
       "  </tbody>\n",
       "</table>\n",
       "</div>"
      ],
      "text/plain": [
       "          count unique    top freq Def        Avg\n",
       "IsMissing                                        \n",
       "False       316      2  False  301  15  0.0474684\n",
       "True        353      2  False  330  23  0.0651558"
      ]
     },
     "execution_count": 73,
     "metadata": {},
     "output_type": "execute_result"
    }
   ],
   "source": [
    "tbl = train.assign(IsMissing = lambda x: x.count_emp.isnull()).groupby('IsMissing').default.describe()\n",
    "tbl['Def'] = tbl['count'] - tbl['freq']\n",
    "tbl['Avg'] = tbl['Def'] / tbl['count']\n",
    "tbl"
   ]
  },
  {
   "cell_type": "markdown",
   "metadata": {
    "hide_input": true,
    "solution2": "shown",
    "solution2_first": true
   },
   "source": [
    "**Question**\n",
    "\n",
    "Is the difference statistical significant?"
   ]
  },
  {
   "cell_type": "code",
   "execution_count": 74,
   "metadata": {
    "ExecuteTime": {
     "end_time": "2020-11-28T08:06:58.047631Z",
     "start_time": "2020-11-28T08:06:58.012624Z"
    },
    "solution2": "shown"
   },
   "outputs": [
    {
     "name": "stdout",
     "output_type": "stream",
     "text": [
      "                          Results: Logit\n",
      "==================================================================\n",
      "Model:               Logit             Pseudo R-squared:  0.003   \n",
      "Dependent Variable:  defn              AIC:               294.7998\n",
      "Date:                2020-11-28 09:06  BIC:               303.8113\n",
      "No. Observations:    669               Log-Likelihood:    -145.40 \n",
      "Df Model:            1                 LL-Null:           -145.89 \n",
      "Df Residuals:        667               LLR p-value:       0.32152 \n",
      "Converged:           1.0000            Scale:             1.0000  \n",
      "No. Iterations:      7.0000                                       \n",
      "------------------------------------------------------------------\n",
      "                   Coef.  Std.Err.    z     P>|z|   [0.025  0.975]\n",
      "------------------------------------------------------------------\n",
      "Intercept         -2.9991   0.2646 -11.3363 0.0000 -3.5176 -2.4805\n",
      "IsMissing[T.True]  0.3355   0.3413   0.9828 0.3257 -0.3335  1.0044\n",
      "==================================================================\n",
      "\n"
     ]
    }
   ],
   "source": [
    "mdl = sm.Logit.from_formula('defn ~ IsMissing + 1', \n",
    "                            data=train.assign(IsMissing = lambda x: x.count_emp.isnull())\n",
    "                           ).fit(disp=False, maxiter=100)\n",
    "print(mdl.summary2())"
   ]
  },
  {
   "cell_type": "code",
   "execution_count": 75,
   "metadata": {
    "ExecuteTime": {
     "end_time": "2020-11-28T08:06:58.062634Z",
     "start_time": "2020-11-28T08:06:58.048632Z"
    },
    "scrolled": false,
    "solution2": "shown"
   },
   "outputs": [
    {
     "name": "stdout",
     "output_type": "stream",
     "text": [
      "        Logit Marginal Effects       \n",
      "=====================================\n",
      "Dep. Variable:                   defn\n",
      "Method:                          dydx\n",
      "At:                           overall\n",
      "=====================================================================================\n",
      "                       dy/dx    std err          z      P>|z|      [0.025      0.975]\n",
      "-------------------------------------------------------------------------------------\n",
      "IsMissing[T.True]     0.0177      0.018      0.996      0.319      -0.017       0.053\n",
      "=====================================================================================\n"
     ]
    }
   ],
   "source": [
    "print(mdl.get_margeff(dummy=True).summary())"
   ]
  },
  {
   "cell_type": "markdown",
   "metadata": {
    "solution2": "shown"
   },
   "source": [
    "*or a binomial test*"
   ]
  },
  {
   "cell_type": "code",
   "execution_count": 8,
   "metadata": {
    "ExecuteTime": {
     "end_time": "2020-11-28T09:58:53.012326Z",
     "start_time": "2020-11-28T09:58:52.983972Z"
    },
    "scrolled": true,
    "solution2": "shown"
   },
   "outputs": [
    {
     "data": {
      "text/html": [
       "<div>\n",
       "<style scoped>\n",
       "    .dataframe tbody tr th:only-of-type {\n",
       "        vertical-align: middle;\n",
       "    }\n",
       "\n",
       "    .dataframe tbody tr th {\n",
       "        vertical-align: top;\n",
       "    }\n",
       "\n",
       "    .dataframe thead th {\n",
       "        text-align: right;\n",
       "    }\n",
       "</style>\n",
       "<table border=\"1\" class=\"dataframe\">\n",
       "  <thead>\n",
       "    <tr style=\"text-align: right;\">\n",
       "      <th></th>\n",
       "      <th>count</th>\n",
       "      <th>sum</th>\n",
       "      <th>mean</th>\n",
       "      <th>CI_Low</th>\n",
       "      <th>CI_High</th>\n",
       "    </tr>\n",
       "    <tr>\n",
       "      <th>IsMissing</th>\n",
       "      <th></th>\n",
       "      <th></th>\n",
       "      <th></th>\n",
       "      <th></th>\n",
       "      <th></th>\n",
       "    </tr>\n",
       "  </thead>\n",
       "  <tbody>\n",
       "    <tr>\n",
       "      <th>True</th>\n",
       "      <td>353</td>\n",
       "      <td>23</td>\n",
       "      <td>0.065156</td>\n",
       "      <td>16.0</td>\n",
       "      <td>31.0</td>\n",
       "    </tr>\n",
       "    <tr>\n",
       "      <th>False</th>\n",
       "      <td>316</td>\n",
       "      <td>15</td>\n",
       "      <td>0.047468</td>\n",
       "      <td>9.0</td>\n",
       "      <td>21.0</td>\n",
       "    </tr>\n",
       "  </tbody>\n",
       "</table>\n",
       "</div>"
      ],
      "text/plain": [
       "           count  sum      mean  CI_Low  CI_High\n",
       "IsMissing                                       \n",
       "True         353   23  0.065156    16.0     31.0\n",
       "False        316   15  0.047468     9.0     21.0"
      ]
     },
     "execution_count": 8,
     "metadata": {},
     "output_type": "execute_result"
    }
   ],
   "source": [
    "res = train.assign(IsMissing = lambda x: x.count_emp.isnull())\n",
    "res = res.groupby(\"IsMissing\").default.agg([\"count\",\"sum\",\"mean\"]).sort_values(\"count\", ascending=False)\n",
    "res[\"CI_Low\"]  = np.nan\n",
    "res[\"CI_High\"] = np.nan\n",
    "\n",
    "for i in list(res.index):\n",
    "    p = res.loc[i, 'mean']\n",
    "    res.loc[i, \"CI_Low\"] = sci.stats.binom.ppf(0.05, res['count'].loc[i], p)\n",
    "    res.loc[i, \"CI_High\"] = sci.stats.binom.ppf(0.95, res['count'].loc[i], p)\n",
    "res.sort_values(\"mean\", ascending=False)"
   ]
  },
  {
   "cell_type": "markdown",
   "metadata": {
    "solution2": "shown",
    "solution2_first": true
   },
   "source": [
    "**Question**\n",
    "\n",
    "How could you impute the missing values?"
   ]
  },
  {
   "cell_type": "markdown",
   "metadata": {
    "solution2": "shown"
   },
   "source": [
    "*a) ordered categorical variable*\n",
    "\n",
    "*b) by using another variable*"
   ]
  },
  {
   "cell_type": "markdown",
   "metadata": {
    "solution2": "shown"
   },
   "source": [
    "**a)** \n",
    "Transforming the number of employees into an ordered categorical variable, for example:"
   ]
  },
  {
   "cell_type": "code",
   "execution_count": 9,
   "metadata": {
    "ExecuteTime": {
     "end_time": "2020-11-28T10:02:47.532445Z",
     "start_time": "2020-11-28T10:02:47.521443Z"
    },
    "solution2": "shown"
   },
   "outputs": [],
   "source": [
    "train['eg_count_emp'] = np.select(\n",
    "    [train['count_emp'].between(1, 49, inclusive=True),\n",
    "     train['count_emp'].between(50, 199, inclusive=True),\n",
    "     train['count_emp'].between(200, np.inf, inclusive=True)], \n",
    "    ['Small', 'Medium', 'Large'], default='Unknown'\n",
    ")"
   ]
  },
  {
   "cell_type": "markdown",
   "metadata": {
    "solution2": "shown"
   },
   "source": [
    "which looks like the following in your dataset"
   ]
  },
  {
   "cell_type": "code",
   "execution_count": 11,
   "metadata": {
    "ExecuteTime": {
     "end_time": "2020-11-28T10:03:28.603087Z",
     "start_time": "2020-11-28T10:03:28.593085Z"
    },
    "solution2": "shown"
   },
   "outputs": [
    {
     "data": {
      "text/html": [
       "<div>\n",
       "<style scoped>\n",
       "    .dataframe tbody tr th:only-of-type {\n",
       "        vertical-align: middle;\n",
       "    }\n",
       "\n",
       "    .dataframe tbody tr th {\n",
       "        vertical-align: top;\n",
       "    }\n",
       "\n",
       "    .dataframe thead th {\n",
       "        text-align: right;\n",
       "    }\n",
       "</style>\n",
       "<table border=\"1\" class=\"dataframe\">\n",
       "  <thead>\n",
       "    <tr style=\"text-align: right;\">\n",
       "      <th></th>\n",
       "      <th>count_emp</th>\n",
       "      <th>eg_count_emp</th>\n",
       "    </tr>\n",
       "    <tr>\n",
       "      <th>id</th>\n",
       "      <th></th>\n",
       "      <th></th>\n",
       "    </tr>\n",
       "  </thead>\n",
       "  <tbody>\n",
       "    <tr>\n",
       "      <th>C_405</th>\n",
       "      <td>NaN</td>\n",
       "      <td>Unknown</td>\n",
       "    </tr>\n",
       "    <tr>\n",
       "      <th>C_292</th>\n",
       "      <td>NaN</td>\n",
       "      <td>Unknown</td>\n",
       "    </tr>\n",
       "    <tr>\n",
       "      <th>C_746</th>\n",
       "      <td>323.0</td>\n",
       "      <td>Large</td>\n",
       "    </tr>\n",
       "    <tr>\n",
       "      <th>C_838</th>\n",
       "      <td>1.0</td>\n",
       "      <td>Small</td>\n",
       "    </tr>\n",
       "    <tr>\n",
       "      <th>C_495</th>\n",
       "      <td>NaN</td>\n",
       "      <td>Unknown</td>\n",
       "    </tr>\n",
       "    <tr>\n",
       "      <th>...</th>\n",
       "      <td>...</td>\n",
       "      <td>...</td>\n",
       "    </tr>\n",
       "    <tr>\n",
       "      <th>C_637</th>\n",
       "      <td>NaN</td>\n",
       "      <td>Unknown</td>\n",
       "    </tr>\n",
       "    <tr>\n",
       "      <th>C_091</th>\n",
       "      <td>64.0</td>\n",
       "      <td>Medium</td>\n",
       "    </tr>\n",
       "    <tr>\n",
       "      <th>C_707</th>\n",
       "      <td>NaN</td>\n",
       "      <td>Unknown</td>\n",
       "    </tr>\n",
       "    <tr>\n",
       "      <th>C_323</th>\n",
       "      <td>NaN</td>\n",
       "      <td>Unknown</td>\n",
       "    </tr>\n",
       "    <tr>\n",
       "      <th>C_864</th>\n",
       "      <td>47.0</td>\n",
       "      <td>Small</td>\n",
       "    </tr>\n",
       "  </tbody>\n",
       "</table>\n",
       "<p>669 rows × 2 columns</p>\n",
       "</div>"
      ],
      "text/plain": [
       "       count_emp eg_count_emp\n",
       "id                           \n",
       "C_405        NaN      Unknown\n",
       "C_292        NaN      Unknown\n",
       "C_746      323.0        Large\n",
       "C_838        1.0        Small\n",
       "C_495        NaN      Unknown\n",
       "...          ...          ...\n",
       "C_637        NaN      Unknown\n",
       "C_091       64.0       Medium\n",
       "C_707        NaN      Unknown\n",
       "C_323        NaN      Unknown\n",
       "C_864       47.0        Small\n",
       "\n",
       "[669 rows x 2 columns]"
      ]
     },
     "execution_count": 11,
     "metadata": {},
     "output_type": "execute_result"
    }
   ],
   "source": [
    "train[['count_emp', 'eg_count_emp']]"
   ]
  },
  {
   "cell_type": "markdown",
   "metadata": {
    "solution2": "shown"
   },
   "source": [
    "How large are the bins?"
   ]
  },
  {
   "cell_type": "code",
   "execution_count": 14,
   "metadata": {
    "ExecuteTime": {
     "end_time": "2020-11-28T10:04:39.705139Z",
     "start_time": "2020-11-28T10:04:39.697933Z"
    },
    "solution2": "shown"
   },
   "outputs": [
    {
     "data": {
      "text/plain": [
       "Unknown    353\n",
       "Medium     121\n",
       "Small      111\n",
       "Large       84\n",
       "Name: eg_count_emp, dtype: int64"
      ]
     },
     "execution_count": 14,
     "metadata": {},
     "output_type": "execute_result"
    }
   ],
   "source": [
    "train['eg_count_emp'].value_counts()"
   ]
  },
  {
   "cell_type": "code",
   "execution_count": 17,
   "metadata": {
    "ExecuteTime": {
     "end_time": "2020-11-28T10:15:57.922348Z",
     "start_time": "2020-11-28T10:15:57.914940Z"
    }
   },
   "outputs": [
    {
     "data": {
      "text/plain": [
       "eg_count_emp\n",
       "Large      0.071429\n",
       "Medium     0.057851\n",
       "Small      0.018018\n",
       "Unknown    0.065156\n",
       "Name: defn, dtype: float64"
      ]
     },
     "execution_count": 17,
     "metadata": {},
     "output_type": "execute_result"
    }
   ],
   "source": [
    "train.groupby('eg_count_emp').defn.mean()"
   ]
  },
  {
   "cell_type": "code",
   "execution_count": 18,
   "metadata": {
    "ExecuteTime": {
     "end_time": "2020-11-28T10:16:31.102258Z",
     "start_time": "2020-11-28T10:16:31.093256Z"
    }
   },
   "outputs": [
    {
     "data": {
      "text/plain": [
       "0.05680119581464873"
      ]
     },
     "execution_count": 18,
     "metadata": {},
     "output_type": "execute_result"
    }
   ],
   "source": [
    "train.defn.mean()"
   ]
  },
  {
   "cell_type": "markdown",
   "metadata": {
    "solution2": "shown"
   },
   "source": [
    "Is there a statical significance result?"
   ]
  },
  {
   "cell_type": "code",
   "execution_count": 15,
   "metadata": {
    "ExecuteTime": {
     "end_time": "2020-11-28T10:04:46.742702Z",
     "start_time": "2020-11-28T10:04:46.694504Z"
    },
    "solution2": "shown"
   },
   "outputs": [
    {
     "name": "stdout",
     "output_type": "stream",
     "text": [
      "                            Results: Logit\n",
      "=======================================================================\n",
      "Model:                  Logit              Pseudo R-squared:   0.017   \n",
      "Dependent Variable:     defn               AIC:                294.8367\n",
      "Date:                   2020-11-28 11:04   BIC:                312.8598\n",
      "No. Observations:       669                Log-Likelihood:     -143.42 \n",
      "Df Model:               3                  LL-Null:            -145.89 \n",
      "Df Residuals:           665                LLR p-value:        0.17581 \n",
      "Converged:              1.0000             Scale:              1.0000  \n",
      "No. Iterations:         8.0000                                         \n",
      "-----------------------------------------------------------------------\n",
      "                         Coef.  Std.Err.    z    P>|z|   [0.025  0.975]\n",
      "-----------------------------------------------------------------------\n",
      "Intercept               -2.5649   0.4237 -6.0543 0.0000 -3.3953 -1.7346\n",
      "eg_count_emp[T.Medium]  -0.2253   0.5754 -0.3916 0.6954 -1.3532  0.9025\n",
      "eg_count_emp[T.Small]   -1.4333   0.8299 -1.7271 0.0841 -3.0597  0.1932\n",
      "eg_count_emp[T.Unknown] -0.0986   0.4754 -0.2075 0.8356 -1.0304  0.8331\n",
      "=======================================================================\n",
      "\n"
     ]
    }
   ],
   "source": [
    "mdl = sm.Logit.from_formula('defn ~ eg_count_emp + 1', data=train).fit(disp=False, maxiter=100)\n",
    "print(mdl.summary2())"
   ]
  },
  {
   "cell_type": "code",
   "execution_count": 16,
   "metadata": {
    "ExecuteTime": {
     "end_time": "2020-11-28T10:06:31.144457Z",
     "start_time": "2020-11-28T10:06:31.136455Z"
    },
    "scrolled": true,
    "solution2": "shown"
   },
   "outputs": [
    {
     "name": "stdout",
     "output_type": "stream",
     "text": [
      "        Logit Marginal Effects       \n",
      "=====================================\n",
      "Dep. Variable:                   defn\n",
      "Method:                          dydx\n",
      "At:                           overall\n",
      "===========================================================================================\n",
      "                             dy/dx    std err          z      P>|z|      [0.025      0.975]\n",
      "-------------------------------------------------------------------------------------------\n",
      "eg_count_emp[T.Medium]     -0.0113      0.027     -0.415      0.678      -0.065       0.042\n",
      "eg_count_emp[T.Small]      -0.0492      0.018     -2.691      0.007      -0.085      -0.013\n",
      "eg_count_emp[T.Unknown]    -0.0053      0.026     -0.205      0.837      -0.056       0.045\n",
      "===========================================================================================\n"
     ]
    }
   ],
   "source": [
    "print(mdl.get_margeff(dummy=True).summary())"
   ]
  },
  {
   "cell_type": "markdown",
   "metadata": {
    "solution2": "shown"
   },
   "source": [
    "**b)** Count of employees and other variables with respect to size?"
   ]
  },
  {
   "cell_type": "code",
   "execution_count": 82,
   "metadata": {
    "ExecuteTime": {
     "end_time": "2020-11-28T08:06:59.175389Z",
     "start_time": "2020-11-28T08:06:59.162386Z"
    },
    "solution2": "shown"
   },
   "outputs": [
    {
     "data": {
      "text/html": [
       "<div>\n",
       "<style scoped>\n",
       "    .dataframe tbody tr th:only-of-type {\n",
       "        vertical-align: middle;\n",
       "    }\n",
       "\n",
       "    .dataframe tbody tr th {\n",
       "        vertical-align: top;\n",
       "    }\n",
       "\n",
       "    .dataframe thead th {\n",
       "        text-align: right;\n",
       "    }\n",
       "</style>\n",
       "<table border=\"1\" class=\"dataframe\">\n",
       "  <thead>\n",
       "    <tr style=\"text-align: right;\">\n",
       "      <th></th>\n",
       "      <th>count_emp</th>\n",
       "      <th>sales</th>\n",
       "      <th>total_assets</th>\n",
       "    </tr>\n",
       "  </thead>\n",
       "  <tbody>\n",
       "    <tr>\n",
       "      <th>count_emp</th>\n",
       "      <td>1.000000</td>\n",
       "      <td>-0.06118</td>\n",
       "      <td>-0.124512</td>\n",
       "    </tr>\n",
       "    <tr>\n",
       "      <th>sales</th>\n",
       "      <td>-0.061180</td>\n",
       "      <td>1.00000</td>\n",
       "      <td>0.793360</td>\n",
       "    </tr>\n",
       "    <tr>\n",
       "      <th>total_assets</th>\n",
       "      <td>-0.124512</td>\n",
       "      <td>0.79336</td>\n",
       "      <td>1.000000</td>\n",
       "    </tr>\n",
       "  </tbody>\n",
       "</table>\n",
       "</div>"
      ],
      "text/plain": [
       "              count_emp    sales  total_assets\n",
       "count_emp      1.000000 -0.06118     -0.124512\n",
       "sales         -0.061180  1.00000      0.793360\n",
       "total_assets  -0.124512  0.79336      1.000000"
      ]
     },
     "execution_count": 82,
     "metadata": {},
     "output_type": "execute_result"
    }
   ],
   "source": [
    "np.log(train[['count_emp', 'sales', 'total_assets']].dropna()).corr()"
   ]
  },
  {
   "cell_type": "code",
   "execution_count": 21,
   "metadata": {
    "ExecuteTime": {
     "end_time": "2020-11-28T10:36:03.691934Z",
     "start_time": "2020-11-28T10:36:03.660386Z"
    },
    "solution2": "shown"
   },
   "outputs": [
    {
     "name": "stdout",
     "output_type": "stream",
     "text": [
      "                  Results: Ordinary least squares\n",
      "====================================================================\n",
      "Model:               OLS               Adj. R-squared:     0.012    \n",
      "Dependent Variable:  np.log(count_emp) AIC:                1215.0009\n",
      "Date:                2020-11-28 11:36  BIC:                1222.5061\n",
      "No. Observations:    315               Log-Likelihood:     -605.50  \n",
      "Df Model:            1                 F-statistic:        4.929    \n",
      "Df Residuals:        313               Prob (F-statistic): 0.0271   \n",
      "R-squared:           0.016             Scale:              2.7537   \n",
      "--------------------------------------------------------------------\n",
      "                      Coef.  Std.Err.    t    P>|t|   [0.025  0.975]\n",
      "--------------------------------------------------------------------\n",
      "Intercept             5.7227   0.6247  9.1606 0.0000  4.4936  6.9519\n",
      "np.log(total_assets) -0.0903   0.0407 -2.2201 0.0271 -0.1704 -0.0103\n",
      "--------------------------------------------------------------------\n",
      "Omnibus:                4.303         Durbin-Watson:           1.813\n",
      "Prob(Omnibus):          0.116         Jarque-Bera (JB):        5.002\n",
      "Skew:                   -0.111        Prob(JB):                0.082\n",
      "Kurtosis:               3.576         Condition No.:           103  \n",
      "====================================================================\n",
      "\n"
     ]
    }
   ],
   "source": [
    "mdl = sm.OLS.from_formula('np.log(count_emp) ~ np.log(total_assets) + 1', data=train).fit(disp=False, maxiter=100)\n",
    "print(mdl.summary2())"
   ]
  },
  {
   "cell_type": "code",
   "execution_count": 22,
   "metadata": {
    "ExecuteTime": {
     "end_time": "2020-11-28T10:37:14.059836Z",
     "start_time": "2020-11-28T10:37:14.046806Z"
    },
    "solution2": "shown"
   },
   "outputs": [
    {
     "data": {
      "text/html": [
       "<div>\n",
       "<style scoped>\n",
       "    .dataframe tbody tr th:only-of-type {\n",
       "        vertical-align: middle;\n",
       "    }\n",
       "\n",
       "    .dataframe tbody tr th {\n",
       "        vertical-align: top;\n",
       "    }\n",
       "\n",
       "    .dataframe thead th {\n",
       "        text-align: right;\n",
       "    }\n",
       "</style>\n",
       "<table border=\"1\" class=\"dataframe\">\n",
       "  <thead>\n",
       "    <tr style=\"text-align: right;\">\n",
       "      <th></th>\n",
       "      <th>count_emp</th>\n",
       "      <th>count_emp_hat</th>\n",
       "      <th>count_emp_imp</th>\n",
       "    </tr>\n",
       "    <tr>\n",
       "      <th>id</th>\n",
       "      <th></th>\n",
       "      <th></th>\n",
       "      <th></th>\n",
       "    </tr>\n",
       "  </thead>\n",
       "  <tbody>\n",
       "    <tr>\n",
       "      <th>C_405</th>\n",
       "      <td>NaN</td>\n",
       "      <td>62.0</td>\n",
       "      <td>62.0</td>\n",
       "    </tr>\n",
       "    <tr>\n",
       "      <th>C_292</th>\n",
       "      <td>NaN</td>\n",
       "      <td>70.0</td>\n",
       "      <td>70.0</td>\n",
       "    </tr>\n",
       "    <tr>\n",
       "      <th>C_746</th>\n",
       "      <td>323.0</td>\n",
       "      <td>61.0</td>\n",
       "      <td>323.0</td>\n",
       "    </tr>\n",
       "    <tr>\n",
       "      <th>C_838</th>\n",
       "      <td>1.0</td>\n",
       "      <td>67.0</td>\n",
       "      <td>1.0</td>\n",
       "    </tr>\n",
       "    <tr>\n",
       "      <th>C_495</th>\n",
       "      <td>NaN</td>\n",
       "      <td>47.0</td>\n",
       "      <td>47.0</td>\n",
       "    </tr>\n",
       "    <tr>\n",
       "      <th>C_494</th>\n",
       "      <td>415.0</td>\n",
       "      <td>110.0</td>\n",
       "      <td>415.0</td>\n",
       "    </tr>\n",
       "    <tr>\n",
       "      <th>C_300</th>\n",
       "      <td>2.0</td>\n",
       "      <td>47.0</td>\n",
       "      <td>2.0</td>\n",
       "    </tr>\n",
       "    <tr>\n",
       "      <th>C_453</th>\n",
       "      <td>NaN</td>\n",
       "      <td>42.0</td>\n",
       "      <td>42.0</td>\n",
       "    </tr>\n",
       "    <tr>\n",
       "      <th>C_924</th>\n",
       "      <td>283.0</td>\n",
       "      <td>58.0</td>\n",
       "      <td>283.0</td>\n",
       "    </tr>\n",
       "    <tr>\n",
       "      <th>C_976</th>\n",
       "      <td>NaN</td>\n",
       "      <td>82.0</td>\n",
       "      <td>82.0</td>\n",
       "    </tr>\n",
       "  </tbody>\n",
       "</table>\n",
       "</div>"
      ],
      "text/plain": [
       "       count_emp  count_emp_hat  count_emp_imp\n",
       "id                                            \n",
       "C_405        NaN           62.0           62.0\n",
       "C_292        NaN           70.0           70.0\n",
       "C_746      323.0           61.0          323.0\n",
       "C_838        1.0           67.0            1.0\n",
       "C_495        NaN           47.0           47.0\n",
       "C_494      415.0          110.0          415.0\n",
       "C_300        2.0           47.0            2.0\n",
       "C_453        NaN           42.0           42.0\n",
       "C_924      283.0           58.0          283.0\n",
       "C_976        NaN           82.0           82.0"
      ]
     },
     "execution_count": 22,
     "metadata": {},
     "output_type": "execute_result"
    }
   ],
   "source": [
    "train['count_emp_hat'] = np.exp(mdl.predict(exog=train.total_assets)).round(0)\n",
    "train['count_emp_imp'] = train['count_emp'].fillna(train['count_emp_hat'])\n",
    "tmp = train[['count_emp', 'count_emp_hat','count_emp_imp']]\n",
    "tmp.head(10)"
   ]
  },
  {
   "cell_type": "code",
   "execution_count": 23,
   "metadata": {
    "ExecuteTime": {
     "end_time": "2020-11-28T10:38:19.576061Z",
     "start_time": "2020-11-28T10:38:19.438321Z"
    },
    "scrolled": false,
    "solution2": "shown"
   },
   "outputs": [
    {
     "data": {
      "text/plain": [
       "<AxesSubplot:xlabel='count_emp', ylabel='count_emp_hat'>"
      ]
     },
     "execution_count": 23,
     "metadata": {},
     "output_type": "execute_result"
    },
    {
     "data": {
      "image/png": "[encoded data removed]",
      "text/plain": [
       "<Figure size 1080x720 with 1 Axes>"
      ]
     },
     "metadata": {},
     "output_type": "display_data"
    }
   ],
   "source": [
    "np.log(tmp).plot(kind='scatter',x = 'count_emp', y='count_emp_hat', figsize=(15,10))"
   ]
  },
  {
   "cell_type": "markdown",
   "metadata": {},
   "source": [
    "## Dealing with outliers"
   ]
  },
  {
   "cell_type": "markdown",
   "metadata": {},
   "source": [
    "**What are outliers**\n",
    "* if an observed value is an outlier or not is not strictly defined and needs the judgement of the analyst - hence it is subjective\n",
    "* first, the dimension you are dealing with is important to interpret what an outlier is:\n",
    "\n",
    "**one-dimensional situation**\n",
    "* loosely defined as values that are \"unusually large\" or \"unusually small\"\n",
    "* but what means unusually?\n",
    " \n",
    "**higher-dimensional cases**\n",
    "* outliers are points \"don't fit the general pattern\" of the other data.\n",
    "\n",
    "**What to do?**\n",
    "* Outliers can cause severe problems for your analysis and you should deal with them\n",
    "\n",
    "*Deleting outliers / Trimming*\n",
    " - never appropriate simply because they meet your definition of outliers\n",
    " - it is only a valid approach if you are sure that they represent some type of error (e.g. selected from a non-relevant population, severe data error that you cannot be fixed) that will distort your analysis.\n",
    "\n",
    "*Winsorizing*\n",
    "* describes the process of limiting extreme values to reduce the effect of possibly spurious outliers (censoring)\n",
    "* hence, you limit the identified outliers to an acceptable level, e.g. by setting the extreme value to a given number or to a value of a given quantile of your data\n",
    "* don't mix it up with trimming / truncation!\n",
    "* Hint: Always think about reasonable minimal and maximal values of your variable - which will make sense? \n",
    "\n",
    "*Transformations*\n",
    "* there are some techniques which reshape the complete distribution of your data and hence deal with extreme values\n",
    "* e.g. quantile transformation or power transformation\n",
    "* nevertheless, if there are linear dependencies between some variables, those will be distorted by such transformations!"
   ]
  },
  {
   "cell_type": "markdown",
   "metadata": {
    "hide_input": false
   },
   "source": [
    "**Question**\n",
    "\n",
    "Histogram and boxplots are shown for two variables, $x$ and $y$. Can you identify the outliers? "
   ]
  },
  {
   "cell_type": "code",
   "execution_count": 86,
   "metadata": {
    "ExecuteTime": {
     "end_time": "2020-11-28T08:06:59.965569Z",
     "start_time": "2020-11-28T08:06:59.634494Z"
    },
    "hide_input": true,
    "scrolled": false
   },
   "outputs": [
    {
     "data": {
      "image/png": "[encoded data removed]",
      "text/plain": [
       "<Figure size 1080x720 with 4 Axes>"
      ]
     },
     "metadata": {},
     "output_type": "display_data"
    },
    {
     "name": "stdout",
     "output_type": "stream",
     "text": [
      "                x           y\n",
      "count  669.000000  669.000000\n",
      "mean     0.024506    1.763631\n",
      "std      1.602747    2.367343\n",
      "min     -9.575212    0.058351\n",
      "25%     -0.689125    0.542968\n",
      "50%      0.089919    1.076452\n",
      "75%      0.702509    2.050167\n",
      "max      8.088302   36.978927\n"
     ]
    }
   ],
   "source": [
    "x1 = np.random.normal(size=649)\n",
    "x2 = np.random.normal(size=10, loc=7)\n",
    "x3 = np.random.normal(size=10, loc=-7)\n",
    "x = np.concatenate([x1, x2, x3])\n",
    "y = np.random.lognormal(size=669)\n",
    "\n",
    "f, ax = plt.subplots(2, 2, figsize=(15, 10))\n",
    "ax[0, 0].boxplot(x)\n",
    "ax[0, 0].set_title('Variable: x')\n",
    "ax[0, 1].hist(x, bins=20, density=True, edgecolor='black')\n",
    "\n",
    "ax[1, 0].boxplot(y)\n",
    "ax[1, 0].set_title('Variable: y')\n",
    "ax[1, 1].hist(y, bins=20, density=True, edgecolor='black')\n",
    "plt.show()\n",
    "\n",
    "print(pd.DataFrame({'x':x, 'y':y}).describe())"
   ]
  },
  {
   "cell_type": "markdown",
   "metadata": {
    "solution2": "shown",
    "solution2_first": true
   },
   "source": [
    "**How can you deal with $x$?**"
   ]
  },
  {
   "cell_type": "code",
   "execution_count": 87,
   "metadata": {
    "ExecuteTime": {
     "end_time": "2020-11-28T08:07:00.363659Z",
     "start_time": "2020-11-28T08:06:59.966569Z"
    },
    "hide_input": false,
    "solution2": "shown"
   },
   "outputs": [
    {
     "data": {
      "image/png": "[encoded data removed]",
      "text/plain": [
       "<Figure size 1080x720 with 4 Axes>"
      ]
     },
     "metadata": {},
     "output_type": "display_data"
    }
   ],
   "source": [
    "xs = x.copy()\n",
    "xs[xs > 3] = 3\n",
    "xs[xs < -3] = -3\n",
    "\n",
    "xs2 = sci.stats.mstats.winsorize(x, limits = 0.018)\n",
    "\n",
    "f, ax = plt.subplots(2, 2, figsize=(15, 10))\n",
    "ax[0,0].boxplot(xs)\n",
    "ax[0,0].set_title('Variable: xs1')\n",
    "ax[0,1].hist(xs, bins=20, edgecolor='black')\n",
    "\n",
    "ax[1,0].boxplot(xs2)\n",
    "ax[1,0].set_title('Variable: xs2')\n",
    "ax[1,1].hist(xs2, bins=20, edgecolor='black');"
   ]
  },
  {
   "cell_type": "markdown",
   "metadata": {
    "solution2": "shown",
    "solution2_first": true
   },
   "source": [
    "**How can you deal with $y$?**"
   ]
  },
  {
   "cell_type": "code",
   "execution_count": 88,
   "metadata": {
    "ExecuteTime": {
     "end_time": "2020-11-28T08:07:00.521695Z",
     "start_time": "2020-11-28T08:07:00.365659Z"
    },
    "hide_input": false,
    "solution2": "shown"
   },
   "outputs": [
    {
     "data": {
      "image/png": "[encoded data removed]",
      "text/plain": [
       "<Figure size 1080x360 with 2 Axes>"
      ]
     },
     "metadata": {},
     "output_type": "display_data"
    }
   ],
   "source": [
    "ys = np.log(y)\n",
    "\n",
    "f, ax = plt.subplots(1, 2, figsize=(15, 5))\n",
    "ax[0].boxplot(ys)\n",
    "ax[0].set_title('Variable: ys')\n",
    "ax[1].hist(ys, bins=20, density=True, edgecolor='black');"
   ]
  },
  {
   "cell_type": "markdown",
   "metadata": {},
   "source": [
    "## Model Selection"
   ]
  },
  {
   "cell_type": "markdown",
   "metadata": {},
   "source": [
    "Suppose you have identified a number of different variables that you may want to include in different models. Let $V$ be the set of all variables you consider. All possible combination of the variables in $V$ are in the power set $\\mathcal{P}(V)$, which includes the empty set (in that case the null model - the mean) as well as $V$ itself. How can you judge which model will probably performs best out-of-sample by assessing the model performance only with your available sample? \n",
    "\n",
    "Obviously, you could choose the full model $V$ - which is probably the model producing the highest $AUC$ in-sample. Nevertheless, will it perform well out-of-sample?\n",
    "\n",
    "There are two approaches used often in machine learning, called:\n",
    "\n",
    "* adjusting the training error and\n",
    "* the cross-validation approach and the application of bootstrapping"
   ]
  },
  {
   "cell_type": "markdown",
   "metadata": {},
   "source": [
    "### Adjusting the training error"
   ]
  },
  {
   "cell_type": "markdown",
   "metadata": {},
   "source": [
    "#### Example"
   ]
  },
  {
   "cell_type": "markdown",
   "metadata": {
    "solution2": "shown",
    "solution2_first": true
   },
   "source": [
    "Let \n",
    "\\begin{equation*}\n",
    "y_i = 10 + 3x_i - 1.5z_i + \\epsilon_i\n",
    "\\end{equation*}\n",
    "\n",
    "and let's say you have additional data represented by the matrix $\\boldsymbol{K}_{N\\times7}$. Can you simply include $\\boldsymbol{K}$? All variables in $\\boldsymbol{K}$ are independent to each other as well as with $\\boldsymbol{x}$, $\\boldsymbol{z}$ and $\\boldsymbol{y}$.\n",
    "\n",
    "What are your expectations when running two regression:\n",
    "\n",
    "1. $y$ on $x$ and $z$ \n",
    "\n",
    "2. $y$ on $x$ and $z$ as well as all $k$"
   ]
  },
  {
   "cell_type": "code",
   "execution_count": 25,
   "metadata": {
    "ExecuteTime": {
     "end_time": "2020-11-28T14:07:53.495291Z",
     "start_time": "2020-11-28T14:07:53.467276Z"
    },
    "hide_input": false,
    "solution2": "shown"
   },
   "outputs": [],
   "source": [
    "def generate_sample(N, seed):\n",
    "    np.random.seed(seed)\n",
    "    eps = np.random.normal(0,5,N)\n",
    "    x = np.random.normal(10,3,N)\n",
    "    z = np.random.normal(8,5,N)\n",
    "    y = 10 + 3*x - 1.5*z + eps\n",
    "    K = np.random.normal(0,10,size=(N,7))\n",
    "\n",
    "    temp1 = pd.DataFrame({'y':y, 'x':x, 'z':z})\n",
    "    temp2 = pd.DataFrame(K)\n",
    "    temp2.columns = ['k'+str(i) for i in range(1,8)]\n",
    "    return pd.concat([temp1, temp2], axis=1)\n",
    "    \n",
    "    \n",
    "data = generate_sample(500, 99)\n",
    "\n",
    "mdl1 = sm.OLS.from_formula('y ~ x + z + 1', data=data).fit()\n",
    "mdl2 = sm.OLS.from_formula('y ~ x + z + k1 + k2 + k3 + k4 + k5 + k6 + k7 + 1', data=data).fit()"
   ]
  },
  {
   "cell_type": "code",
   "execution_count": 90,
   "metadata": {
    "ExecuteTime": {
     "end_time": "2020-11-28T08:07:00.839765Z",
     "start_time": "2020-11-28T08:07:00.808758Z"
    },
    "hide_input": false,
    "scrolled": false,
    "solution2": "shown"
   },
   "outputs": [
    {
     "name": "stdout",
     "output_type": "stream",
     "text": [
      "                 Results: Ordinary least squares\n",
      "==================================================================\n",
      "Model:              OLS              Adj. R-squared:     0.857    \n",
      "Dependent Variable: y                AIC:                3017.8887\n",
      "Date:               2020-11-28 09:07 BIC:                3030.5325\n",
      "No. Observations:   500              Log-Likelihood:     -1505.9  \n",
      "Df Model:           2                F-statistic:        1495.    \n",
      "Df Residuals:       497              Prob (F-statistic): 5.86e-211\n",
      "R-squared:          0.857            Scale:              24.335   \n",
      "-------------------------------------------------------------------\n",
      "               Coef.   Std.Err.     t      P>|t|    [0.025   0.975]\n",
      "-------------------------------------------------------------------\n",
      "Intercept      9.4750    0.8419   11.2549  0.0000   7.8210  11.1291\n",
      "x              3.0546    0.0721   42.3925  0.0000   2.9130   3.1962\n",
      "z             -1.4750    0.0424  -34.8144  0.0000  -1.5583  -1.3918\n",
      "------------------------------------------------------------------\n",
      "Omnibus:              2.132         Durbin-Watson:           2.024\n",
      "Prob(Omnibus):        0.344         Jarque-Bera (JB):        2.022\n",
      "Skew:                 -0.155        Prob(JB):                0.364\n",
      "Kurtosis:             3.034         Condition No.:           53   \n",
      "==================================================================\n",
      "\n"
     ]
    }
   ],
   "source": [
    "print(mdl1.summary2())"
   ]
  },
  {
   "cell_type": "code",
   "execution_count": 26,
   "metadata": {
    "ExecuteTime": {
     "end_time": "2020-11-28T14:07:55.257143Z",
     "start_time": "2020-11-28T14:07:55.225125Z"
    },
    "hide_input": false,
    "solution2": "shown"
   },
   "outputs": [
    {
     "name": "stdout",
     "output_type": "stream",
     "text": [
      "                 Results: Ordinary least squares\n",
      "==================================================================\n",
      "Model:              OLS              Adj. R-squared:     0.857    \n",
      "Dependent Variable: y                AIC:                3023.5918\n",
      "Date:               2020-11-28 15:07 BIC:                3065.7378\n",
      "No. Observations:   500              Log-Likelihood:     -1501.8  \n",
      "Df Model:           9                F-statistic:        333.9    \n",
      "Df Residuals:       490              Prob (F-statistic): 1.11e-202\n",
      "R-squared:          0.860            Scale:              24.277   \n",
      "-------------------------------------------------------------------\n",
      "               Coef.   Std.Err.     t      P>|t|    [0.025   0.975]\n",
      "-------------------------------------------------------------------\n",
      "Intercept      9.3509    0.8489   11.0151  0.0000   7.6829  11.0188\n",
      "x              3.0639    0.0724   42.3396  0.0000   2.9218   3.2061\n",
      "z             -1.4697    0.0426  -34.5193  0.0000  -1.5534  -1.3860\n",
      "k1            -0.0074    0.0223   -0.3334  0.7390  -0.0511   0.0363\n",
      "k2            -0.0455    0.0223   -2.0388  0.0420  -0.0893  -0.0017\n",
      "k3            -0.0116    0.0234   -0.4951  0.6208  -0.0577   0.0345\n",
      "k4             0.0312    0.0211    1.4815  0.1391  -0.0102   0.0726\n",
      "k5             0.0133    0.0221    0.6038  0.5462  -0.0300   0.0567\n",
      "k6             0.0048    0.0212    0.2245  0.8224  -0.0369   0.0464\n",
      "k7            -0.0193    0.0213   -0.9091  0.3638  -0.0612   0.0225\n",
      "------------------------------------------------------------------\n",
      "Omnibus:              2.198         Durbin-Watson:           2.012\n",
      "Prob(Omnibus):        0.333         Jarque-Bera (JB):        2.097\n",
      "Skew:                 -0.158        Prob(JB):                0.351\n",
      "Kurtosis:             3.027         Condition No.:           54   \n",
      "==================================================================\n",
      "\n"
     ]
    }
   ],
   "source": [
    "print(mdl2.summary2())"
   ]
  },
  {
   "cell_type": "code",
   "execution_count": 27,
   "metadata": {
    "ExecuteTime": {
     "end_time": "2020-11-28T14:07:56.831045Z",
     "start_time": "2020-11-28T14:07:56.815041Z"
    },
    "solution2": "shown"
   },
   "outputs": [
    {
     "data": {
      "text/plain": [
       "24.335067877314653"
      ]
     },
     "execution_count": 27,
     "metadata": {},
     "output_type": "execute_result"
    }
   ],
   "source": [
    "mdl1.mse_resid"
   ]
  },
  {
   "cell_type": "code",
   "execution_count": 28,
   "metadata": {
    "ExecuteTime": {
     "end_time": "2020-11-28T14:07:57.432478Z",
     "start_time": "2020-11-28T14:07:57.415474Z"
    },
    "scrolled": true,
    "solution2": "shown"
   },
   "outputs": [
    {
     "data": {
      "text/plain": [
       "24.276508819887624"
      ]
     },
     "execution_count": 28,
     "metadata": {},
     "output_type": "execute_result"
    }
   ],
   "source": [
    "mdl2.mse_resid"
   ]
  },
  {
   "cell_type": "code",
   "execution_count": 29,
   "metadata": {
    "ExecuteTime": {
     "end_time": "2020-11-28T14:07:58.203981Z",
     "start_time": "2020-11-28T14:07:58.197980Z"
    },
    "solution2": "shown"
   },
   "outputs": [
    {
     "name": "stdout",
     "output_type": "stream",
     "text": [
      "======================= Model 1 vs. Model 2 =================\n",
      "\n",
      "R2:       0.8574410845141469           0.8597871736853626\n",
      "\n",
      "Adj. R2:  0.8568674067858336           0.8572118360591754\n",
      "\n",
      "AIC:      3017.8887133264734           3023.591763318417\n",
      "\n",
      "BIC:      3030.53253762174             3065.737844302639\n"
     ]
    }
   ],
   "source": [
    "print('======================= Model 1 vs. Model 2 =================\\n')\n",
    "print('R2:       {}           {}\\n'.format(mdl1.rsquared, mdl2.rsquared))\n",
    "print('Adj. R2:  {}           {}\\n'.format(mdl1.rsquared_adj, mdl2.rsquared_adj))\n",
    "print('AIC:      {}           {}\\n'.format(mdl1.aic, mdl2.aic))\n",
    "print('BIC:      {}             {}'.format(mdl1.bic, mdl2.bic))"
   ]
  },
  {
   "cell_type": "markdown",
   "metadata": {},
   "source": [
    "#### Summary on \"adjusting the training error\""
   ]
  },
  {
   "cell_type": "markdown",
   "metadata": {},
   "source": [
    "You already know the R2 value\n",
    "* in simple terms: variance explained by the model\n",
    "* the larger to 1, the more is explained by the model (is a value of 1 or near 1 good?)\n",
    "* R2 always increases as additional variables are added - Why?\n",
    "\n",
    "*Adj. R2*\n",
    "* like R2, but \"corrected\" / \"adjusted\" for the number of parameters to estimate (degrees of freedom)\n",
    "* Idea: If you have the \"optimal\" model, adding some noise variables will decrease the error of the regression only marginally but increases the number of parameters (penalty)\n",
    "* R2 and adj. R2 only in OLS (Pseudo R2 exists for GLM like logit models)\n",
    "\n",
    "*AIC*\n",
    "* for least squares: $AIC=\\frac{1}{n\\cdot \\sigma_\\epsilon^2} \\cdot (RSS+2⋅d⋅\\sigma_\\epsilon^2)$\n",
    "* in general: $AIC=2\\cdot d-2\\log({\\hat {L}})$\n",
    "* the lower the better\n",
    "\n",
    "*BIC*\n",
    "* for least squares: $BIC=\\frac{1}{n}\\cdot(RSS+\\log(n)⋅d⋅\\sigma_\\epsilon^2)$\n",
    "* in general: $BIC =\\log(n) \\cdot d - 2\\cdot\\ln({\\hat {L}})$\n",
    "* the lower the better\n",
    "* larger penality compared to AIC, as  log(n)>2  for  n>7 \n",
    "* hence, smaller models are recommended by the statistic\n",
    "\n",
    "with  \n",
    "* $d$  the number of variables (estimated parameters),  \n",
    "* $RSS$  the residual sum of squares,  \n",
    "* $n$  the number of observations, \n",
    "* $\\sigma_\\epsilon^2$  the estimated variance of the error term and \n",
    "* $\\hat{L}$ being the the maximized value of the likelihood function of the model."
   ]
  },
  {
   "cell_type": "markdown",
   "metadata": {},
   "source": [
    "### Cross-Validation approach (Resampling methods)"
   ]
  },
  {
   "cell_type": "markdown",
   "metadata": {},
   "source": [
    "The main idea of the cross-validation approach\n",
    "* repeatedly draw a subset from your available sample\n",
    "* for each of these subsets, estimate your model\n",
    "* evaluate each estimated subset-model on the data not included in this subset - on the validation sample\n",
    "* there are many different sub-approaches for that simple idea"
   ]
  },
  {
   "cell_type": "markdown",
   "metadata": {
    "heading_collapsed": true
   },
   "source": [
    "#### Validation Set Approach"
   ]
  },
  {
   "cell_type": "markdown",
   "metadata": {
    "hidden": true
   },
   "source": [
    "* randomly divide the full sample into two subsets - the new \"training sample\" and the \"validation sample\"\n",
    "* estimate the model on the new \"training sample\"\n",
    "* evaluate the model out-of-sample with the validation sample (e.g. MSE, AUC, ...)"
   ]
  },
  {
   "cell_type": "markdown",
   "metadata": {},
   "source": [
    "#### Leave-1-Out Cross-Validation Approach"
   ]
  },
  {
   "cell_type": "markdown",
   "metadata": {},
   "source": [
    "* assume that you have a sample with 100 observations\n",
    "* in total, you will estimate your model 100 times\n",
    "* for each estimation, you leave out one observation and hence you estimate the model with the remaining 99 observations\n",
    "* for each estimation, you evaluate the out-of-sample performance based on the prediction for the one observation left out\n",
    "* as you have only one prediction, you can for example use the squared error as a criteria\n",
    "* in the end, you have 100 squared errors and can compute a mean squared error\n",
    "* if you have for example 10 models competing with each other, you have 10 times 100 squared errors and 10 mean squared errors that you can compare\n",
    "* can be vary costly, if the number of observations is large"
   ]
  },
  {
   "cell_type": "markdown",
   "metadata": {},
   "source": [
    "#### Leave-K-Out Cross-Validation Approach"
   ]
  },
  {
   "cell_type": "markdown",
   "metadata": {},
   "source": [
    "* same as Leave-1-Out, but instead to leave out 1 observations, you leave out K observation for your validation sample and N-K observations for the estimation of the model for each fold of size K\n",
    "* can be very costly as the observations may overlap."
   ]
  },
  {
   "cell_type": "markdown",
   "metadata": {
    "solution2": "shown",
    "solution2_first": true
   },
   "source": [
    "*A small geek test*\n",
    "\n",
    "Given your sample has $N=500$ observations and you want to apply a Leave-**3**-Out Cross Validation Approach, how many times will you estimate the parameters of one model and validate your results?"
   ]
  },
  {
   "cell_type": "markdown",
   "metadata": {
    "solution2": "shown"
   },
   "source": [
    "\\begin{equation*}\n",
    "\\dfrac{N!}{K!\\cdot(N-K)!} = \\dfrac{500!}{3!\\cdot(500-3)!)} = 20.7085 \\cdot 1e6 \n",
    "\\end{equation*}"
   ]
  },
  {
   "cell_type": "code",
   "execution_count": 95,
   "metadata": {
    "ExecuteTime": {
     "end_time": "2020-11-28T08:07:02.494140Z",
     "start_time": "2020-11-28T08:07:02.489138Z"
    },
    "solution2": "shown"
   },
   "outputs": [
    {
     "data": {
      "text/plain": [
       "20.7085"
      ]
     },
     "execution_count": 95,
     "metadata": {},
     "output_type": "execute_result"
    }
   ],
   "source": [
    "sci.special.comb(500,3, exact=True) / 1e6"
   ]
  },
  {
   "cell_type": "markdown",
   "metadata": {},
   "source": [
    "#### K-Fold Approach"
   ]
  },
  {
   "cell_type": "markdown",
   "metadata": {},
   "source": [
    "* randomly dividing your sample into K folds of approx. equal size with distinct observations\n",
    "* each time of the K estimation, one fold is used for validation and K-1 folds for estimation\n",
    "* if K is large, you can use other metrics, like the AUC, to evaluate the model performance and can evaluate its distribution"
   ]
  },
  {
   "cell_type": "markdown",
   "metadata": {},
   "source": [
    "#### Repeated K-Fold Approach"
   ]
  },
  {
   "cell_type": "markdown",
   "metadata": {},
   "source": [
    "* same as K-Fold approach, but repeated N times\n",
    "* different random numbers are used to create different folds of size K"
   ]
  },
  {
   "cell_type": "markdown",
   "metadata": {},
   "source": [
    "#### Stratified version of the K-Fold approach"
   ]
  },
  {
   "cell_type": "markdown",
   "metadata": {},
   "source": [
    "* same as K-Fold approach, but\n",
    "* the folds are made by preserving the percentage of samples for each class (default / no default)."
   ]
  },
  {
   "cell_type": "markdown",
   "metadata": {},
   "source": [
    "#### Example: K-Fold approach"
   ]
  },
  {
   "cell_type": "markdown",
   "metadata": {},
   "source": [
    "using the same data as before, with 13 folds"
   ]
  },
  {
   "cell_type": "code",
   "execution_count": 30,
   "metadata": {
    "ExecuteTime": {
     "end_time": "2020-11-28T14:40:32.854249Z",
     "start_time": "2020-11-28T14:40:32.779831Z"
    }
   },
   "outputs": [],
   "source": [
    "import sklearn as sk\n",
    "from sklearn import model_selection"
   ]
  },
  {
   "cell_type": "code",
   "execution_count": 31,
   "metadata": {
    "ExecuteTime": {
     "end_time": "2020-11-28T14:40:33.626180Z",
     "start_time": "2020-11-28T14:40:33.614152Z"
    }
   },
   "outputs": [
    {
     "name": "stdout",
     "output_type": "stream",
     "text": [
      "KFold(n_splits=13, random_state=23, shuffle=True)\n"
     ]
    }
   ],
   "source": [
    "X = data.iloc[:,1:].values\n",
    "y = data.y.values\n",
    "\n",
    "kf = sk.model_selection.KFold(n_splits=13, random_state=23, shuffle=True)\n",
    "kf.get_n_splits(X)\n",
    "\n",
    "print(kf)"
   ]
  },
  {
   "cell_type": "code",
   "execution_count": 32,
   "metadata": {
    "ExecuteTime": {
     "end_time": "2020-11-28T14:41:19.820238Z",
     "start_time": "2020-11-28T14:41:19.795241Z"
    }
   },
   "outputs": [],
   "source": [
    "# There are possibilities to write the code more efficient - for the sake of clarity, a step-by-step code is shown\n",
    "\n",
    "mse1 = []\n",
    "mse2 = []\n",
    "\n",
    "for train_index, test_index in kf.split(X):\n",
    "    \n",
    "    # Estimate Model 1\n",
    "    mdl1 = sm.OLS(y[train_index], X[train_index, 0:2]).fit()\n",
    "\n",
    "    # Prediction Model 1\n",
    "    pred1 = mdl1.predict(X[test_index, 0:2])\n",
    "\n",
    "    # Estimate Model 2\n",
    "    mdl2 = sm.OLS(y[train_index], X[train_index, :]).fit()\n",
    "\n",
    "    # Prediction Model 2\n",
    "    pred2 = mdl2.predict(X[test_index, :])\n",
    "\n",
    "    # Calculate MSEs\n",
    "    mse1.append(np.mean((pred1 - y[test_index])**2))\n",
    "    mse2.append(np.mean((pred2 - y[test_index])**2))\n",
    "\n",
    "mse1 = np.array(mse1)\n",
    "mse2 = np.array(mse2)"
   ]
  },
  {
   "cell_type": "code",
   "execution_count": 33,
   "metadata": {
    "ExecuteTime": {
     "end_time": "2020-11-28T14:41:21.398194Z",
     "start_time": "2020-11-28T14:41:21.268739Z"
    }
   },
   "outputs": [
    {
     "data": {
      "image/png": "[encoded data removed]",
      "text/plain": [
       "<Figure size 1080x360 with 2 Axes>"
      ]
     },
     "metadata": {},
     "output_type": "display_data"
    },
    {
     "name": "stdout",
     "output_type": "stream",
     "text": [
      "              M1         M2\n",
      "count  13.000000  13.000000\n",
      "mean   30.635415  30.732517\n",
      "std     5.704667   5.493378\n",
      "min    23.649033  23.594508\n",
      "25%    25.861410  26.596406\n",
      "50%    30.785993  30.583279\n",
      "75%    32.770609  31.407075\n",
      "max    42.370164  42.366956\n"
     ]
    }
   ],
   "source": [
    "f, ax = plt.subplots(1, 2, figsize=(15, 5), sharey=True)\n",
    "\n",
    "ax[0].boxplot(mse1)\n",
    "ax[1].boxplot(mse2)\n",
    "\n",
    "ax[0].set_title('Model 1')\n",
    "ax[1].set_title('Model 2')\n",
    "\n",
    "plt.show()\n",
    "\n",
    "print(pd.DataFrame({'M1': mse1, 'M2': mse2}).describe())"
   ]
  },
  {
   "cell_type": "code",
   "execution_count": 100,
   "metadata": {
    "ExecuteTime": {
     "end_time": "2020-11-28T08:07:04.104502Z",
     "start_time": "2020-11-28T08:07:04.089499Z"
    }
   },
   "outputs": [],
   "source": [
    "mdl1 = sm.OLS(y, X[:,0:2]).fit()\n",
    "mdl2 = sm.OLS(y, X).fit()\n",
    "\n",
    "data_test = generate_sample(500, 999)\n",
    "\n",
    "pred1 = mdl1.predict(data_test.iloc[:,1:3].values)\n",
    "pred2 = mdl2.predict(data_test.iloc[:,1:].values)\n",
    "\n",
    "mse1 = ((data_test['y'] - pred1)**2).mean()\n",
    "mse2 = ((data_test['y'] - pred2)**2).mean()"
   ]
  },
  {
   "cell_type": "code",
   "execution_count": 101,
   "metadata": {
    "ExecuteTime": {
     "end_time": "2020-11-28T08:07:04.120506Z",
     "start_time": "2020-11-28T08:07:04.105503Z"
    }
   },
   "outputs": [
    {
     "name": "stdout",
     "output_type": "stream",
     "text": [
      "32.91079243251356\n",
      "33.214923683358165\n"
     ]
    }
   ],
   "source": [
    "print(mse1)\n",
    "print(mse2)"
   ]
  },
  {
   "cell_type": "markdown",
   "metadata": {},
   "source": [
    "## Overfitting and Feature selection"
   ]
  },
  {
   "cell_type": "markdown",
   "metadata": {},
   "source": [
    "### A word of warning"
   ]
  },
  {
   "cell_type": "markdown",
   "metadata": {},
   "source": [
    "In the previous example, the variables in the matrix $\\boldsymbol{K}$ were not correlated with each other or the other variables by construction. Nevertheless, due to randomness / luck / misfortune, $\\boldsymbol{k}_2$ was already significant in the regression using the full sample.\n",
    "\n",
    "Such spurious relationships - relationships that only hold in-sample, but not out-of-sample - are very common in general. Furthermore, some variables may provide some information about the probability of default, but the information content will be too low if other aspects of the variable, which will distort your performance, are taken into account. Think about how many different ratio of balance sheet, P&L and cash flow items you could create.\n",
    "\n",
    "*But how can you decide if a variable is useful or not, especially with respect to the story of the case study?*\n",
    "\n",
    "1. economic reasoning\n",
    "2. economic reasoning\n",
    "3. economic reasoning\n",
    "\n",
    "Of course, that is not all - you can for example:\n",
    "* Evaluate each variable of interest alone w.r.t. its prediction power of defaults. \n",
    "    + Nevertheless, remember that there some variables may not be directly important, but only in combination with another variable. \n",
    "    + Hence only looking at p-values and / or a Gini coefficient is not enough, especially in an univariate context.\n",
    "    + Try to visualize the differences in the distribution of the variables depending on wheather they default or not.\n",
    "* Identify variables that include nearly the same information - if they include the same information, you will not need both of them - use one or combination (e.g. Dimension Reduction Methods like PCA)\n",
    "* Use some machine learning techniques, for example:\n",
    " + Stepwise regressions (Forward, Backward, Hybrid)\n",
    " + Regularized regressions models (e.g. logit regressions with L1 / L2 penalty called Lasso / Ridge Regressions too)\n",
    " + Tree based models like random forests"
   ]
  },
  {
   "cell_type": "code",
   "execution_count": 34,
   "metadata": {
    "ExecuteTime": {
     "end_time": "2020-11-28T14:47:11.399827Z",
     "start_time": "2020-11-28T14:47:11.373973Z"
    }
   },
   "outputs": [
    {
     "data": {
      "text/html": [
       "<div>\n",
       "<style scoped>\n",
       "    .dataframe tbody tr th:only-of-type {\n",
       "        vertical-align: middle;\n",
       "    }\n",
       "\n",
       "    .dataframe tbody tr th {\n",
       "        vertical-align: top;\n",
       "    }\n",
       "\n",
       "    .dataframe thead th {\n",
       "        text-align: right;\n",
       "    }\n",
       "</style>\n",
       "<table border=\"1\" class=\"dataframe\">\n",
       "  <thead>\n",
       "    <tr style=\"text-align: right;\">\n",
       "      <th></th>\n",
       "      <th>Age</th>\n",
       "      <th>Sex</th>\n",
       "      <th>Job</th>\n",
       "      <th>Housing</th>\n",
       "      <th>Saving_accounts</th>\n",
       "      <th>Checking_account</th>\n",
       "      <th>Credit_amount</th>\n",
       "      <th>Duration</th>\n",
       "      <th>Purpose</th>\n",
       "      <th>Risky</th>\n",
       "    </tr>\n",
       "  </thead>\n",
       "  <tbody>\n",
       "    <tr>\n",
       "      <th>0</th>\n",
       "      <td>67</td>\n",
       "      <td>male</td>\n",
       "      <td>skilled</td>\n",
       "      <td>own</td>\n",
       "      <td>Unknown</td>\n",
       "      <td>little</td>\n",
       "      <td>597.70</td>\n",
       "      <td>6</td>\n",
       "      <td>radio/TV</td>\n",
       "      <td>False</td>\n",
       "    </tr>\n",
       "    <tr>\n",
       "      <th>1</th>\n",
       "      <td>22</td>\n",
       "      <td>female</td>\n",
       "      <td>skilled</td>\n",
       "      <td>own</td>\n",
       "      <td>little</td>\n",
       "      <td>moderate</td>\n",
       "      <td>3042.70</td>\n",
       "      <td>48</td>\n",
       "      <td>radio/TV</td>\n",
       "      <td>True</td>\n",
       "    </tr>\n",
       "    <tr>\n",
       "      <th>2</th>\n",
       "      <td>49</td>\n",
       "      <td>male</td>\n",
       "      <td>-skilled</td>\n",
       "      <td>own</td>\n",
       "      <td>little</td>\n",
       "      <td>Unknown</td>\n",
       "      <td>1071.67</td>\n",
       "      <td>12</td>\n",
       "      <td>education</td>\n",
       "      <td>False</td>\n",
       "    </tr>\n",
       "    <tr>\n",
       "      <th>3</th>\n",
       "      <td>45</td>\n",
       "      <td>male</td>\n",
       "      <td>skilled</td>\n",
       "      <td>free</td>\n",
       "      <td>little</td>\n",
       "      <td>little</td>\n",
       "      <td>4030.00</td>\n",
       "      <td>42</td>\n",
       "      <td>furniture/equipment</td>\n",
       "      <td>False</td>\n",
       "    </tr>\n",
       "    <tr>\n",
       "      <th>4</th>\n",
       "      <td>53</td>\n",
       "      <td>male</td>\n",
       "      <td>skilled</td>\n",
       "      <td>free</td>\n",
       "      <td>little</td>\n",
       "      <td>little</td>\n",
       "      <td>2489.99</td>\n",
       "      <td>24</td>\n",
       "      <td>car</td>\n",
       "      <td>True</td>\n",
       "    </tr>\n",
       "  </tbody>\n",
       "</table>\n",
       "</div>"
      ],
      "text/plain": [
       "   Age     Sex       Job Housing Saving_accounts Checking_account  Credit_amount  Duration              Purpose  Risky\n",
       "0   67    male   skilled     own         Unknown           little         597.70         6             radio/TV  False\n",
       "1   22  female   skilled     own          little         moderate        3042.70        48             radio/TV   True\n",
       "2   49    male  -skilled     own          little          Unknown        1071.67        12            education  False\n",
       "3   45    male   skilled    free          little           little        4030.00        42  furniture/equipment  False\n",
       "4   53    male   skilled    free          little           little        2489.99        24                  car   True"
      ]
     },
     "execution_count": 34,
     "metadata": {},
     "output_type": "execute_result"
    }
   ],
   "source": [
    "path = 'C:/Users/schmi/OneDrive/Uni/Teaching/Applied_RM/Sessions/'\n",
    "\n",
    "df = pd.read_csv(path + 'german_credit_data.csv', sep=',', index_col=0)\n",
    "df = df.rename(columns={'Credit amount': 'Credit_amount',\n",
    "                       'Saving accounts': 'Saving_accounts',\n",
    "                       'Checking account': 'Checking_account'})\n",
    "df = df.rename(columns={'Risk': 'Risky'})\n",
    "df.Risky = df.Risky.replace(['good', 'bad'], [False, True])\n",
    "df.Job = df.Job.replace([0,1,2,3],['unemp/-skilled / non-resident', '-skilled', \n",
    "                                   'skilled', '+skilled / selfemp'])\n",
    "df.Credit_amount = np.round(df.Credit_amount / 1.95583,2)\n",
    "df.Checking_account = df.Checking_account.replace(np.nan,'Unknown')\n",
    "df.Saving_accounts = df.Saving_accounts.replace(np.nan,'Unknown')\n",
    "df.head()"
   ]
  },
  {
   "cell_type": "code",
   "execution_count": 35,
   "metadata": {
    "ExecuteTime": {
     "end_time": "2020-11-28T14:47:13.096326Z",
     "start_time": "2020-11-28T14:47:12.745458Z"
    }
   },
   "outputs": [
    {
     "name": "stdout",
     "output_type": "stream",
     "text": [
      "Unknown     394\n",
      "little      274\n",
      "moderate    269\n",
      "rich         63\n",
      "Name: Checking_account, dtype: int64\n"
     ]
    },
    {
     "data": {
      "image/png": "[encoded data removed]",
      "text/plain": [
       "<Figure size 1440x360 with 4 Axes>"
      ]
     },
     "metadata": {},
     "output_type": "display_data"
    }
   ],
   "source": [
    "g = list(df.Checking_account.unique())\n",
    "fig, axes = plt.subplots(1,len(g), figsize=(len(g)*5,5))\n",
    "row = 0\n",
    "\n",
    "for i in df.Checking_account.unique():   \n",
    "    sns.boxplot(x=df.Risky, y=df.loc[df.Checking_account==i, 'Duration'], whis=1.5, ax=axes[row])\n",
    "    axes[row].set_title(\"Variable: Amount on checking account: {}\".format(i))\n",
    "    row += 1\n",
    "    \n",
    "fig.tight_layout()\n",
    "\n",
    "print(df.Checking_account.value_counts())"
   ]
  },
  {
   "cell_type": "code",
   "execution_count": 37,
   "metadata": {
    "ExecuteTime": {
     "end_time": "2020-11-28T14:49:11.363685Z",
     "start_time": "2020-11-28T14:49:11.230656Z"
    }
   },
   "outputs": [
    {
     "name": "stdout",
     "output_type": "stream",
     "text": [
      "====================================================\n",
      "Variable:  Sex\n",
      "---------------------------------------------------\n",
      "        False   True  N_False  N_True    N  N_Perc\n",
      "Sex                                               \n",
      "female  64.84  35.16      201     109  310    31.0\n",
      "male    72.32  27.68      499     191  690    69.0\n",
      "\n",
      "====================================================\n",
      "Variable:  Job\n",
      "---------------------------------------------------\n",
      "                               False   True  N_False  N_True    N  N_Perc\n",
      "Job                                                                      \n",
      "+skilled / selfemp             65.54  34.46       97      51  148    14.8\n",
      "unemp/-skilled / non-resident  68.18  31.82       15       7   22     2.2\n",
      "skilled                        70.48  29.52      444     186  630    63.0\n",
      "-skilled                       72.00  28.00      144      56  200    20.0\n",
      "\n",
      "====================================================\n",
      "Variable:  Housing\n",
      "---------------------------------------------------\n",
      "         False   True  N_False  N_True    N  N_Perc\n",
      "Housing                                            \n",
      "free     59.26  40.74       64      44  108    10.8\n",
      "rent     60.89  39.11      109      70  179    17.9\n",
      "own      73.91  26.09      527     186  713    71.3\n",
      "\n",
      "====================================================\n",
      "Variable:  Saving_accounts\n",
      "---------------------------------------------------\n",
      "                 False   True  N_False  N_True    N  N_Perc\n",
      "Saving_accounts                                            \n",
      "little           64.01  35.99      386     217  603    60.3\n",
      "moderate         66.99  33.01       69      34  103    10.3\n",
      "Unknown          82.51  17.49      151      32  183    18.3\n",
      "quite rich       82.54  17.46       52      11   63     6.3\n",
      "rich             87.50  12.50       42       6   48     4.8\n",
      "\n",
      "====================================================\n",
      "Variable:  Checking_account\n",
      "---------------------------------------------------\n",
      "                  False   True  N_False  N_True    N  N_Perc\n",
      "Checking_account                                            \n",
      "little            50.73  49.27      139     135  274    27.4\n",
      "moderate          60.97  39.03      164     105  269    26.9\n",
      "rich              77.78  22.22       49      14   63     6.3\n",
      "Unknown           88.32  11.68      348      46  394    39.4\n",
      "\n",
      "====================================================\n",
      "Variable:  Purpose\n",
      "---------------------------------------------------\n",
      "                     False   True  N_False  N_True    N  N_Perc\n",
      "Purpose                                                        \n",
      "vacation/others      58.33  41.67        7       5   12     1.2\n",
      "education            61.02  38.98       36      23   59     5.9\n",
      "repairs              63.64  36.36       14       8   22     2.2\n",
      "business             64.95  35.05       63      34   97     9.7\n",
      "domestic appliances  66.67  33.33        8       4   12     1.2\n",
      "furniture/equipment  67.96  32.04      123      58  181    18.1\n",
      "car                  68.55  31.45      231     106  337    33.7\n",
      "radio/TV             77.86  22.14      218      62  280    28.0\n",
      "\n"
     ]
    }
   ],
   "source": [
    "catvar = [i for i in list(df.columns) if df[i].dtype=='O']\n",
    "catvar\n",
    "\n",
    "for i in catvar:\n",
    "    tmp1 = pd.crosstab(df['Risky'], df[i]).apply(lambda x: np.round(x/x.sum() * 100,2)).T.sort_values(True, ascending=False)\n",
    "    tmp2 = pd.crosstab(df['Risky'], df[i]).T.rename(columns={False: 'N_False', True: 'N_True'})\n",
    "    tmp3 = pd.DataFrame(tmp2.apply(sum, axis=1), columns=['N'])\n",
    "    tmp4 = tmp3.apply(lambda x: np.round(x/x.sum() * 100,2)).rename(columns={'N': 'N_Perc'})\n",
    "    tmp = tmp1.join(tmp2).join(tmp3).join(tmp4)\n",
    "    print('====================================================')\n",
    "    print('Variable: ',i)\n",
    "    print('---------------------------------------------------')\n",
    "    print(tmp)\n",
    "    print()\n",
    "    del tmp1, tmp2, tmp3, tmp4, tmp"
   ]
  },
  {
   "cell_type": "code",
   "execution_count": 105,
   "metadata": {
    "ExecuteTime": {
     "end_time": "2020-11-28T08:07:04.976700Z",
     "start_time": "2020-11-28T08:07:04.821664Z"
    }
   },
   "outputs": [
    {
     "data": {
      "image/png": "[encoded data removed]",
      "text/plain": [
       "<Figure size 1080x720 with 2 Axes>"
      ]
     },
     "metadata": {},
     "output_type": "display_data"
    }
   ],
   "source": [
    "# Pearson vs. Spearman\n",
    "\n",
    "numvar = [i for i in list(df.columns) if df[i].dtype in ['float64','int64']]\n",
    "\n",
    "boolvar = 'Risky'\n",
    "\n",
    "f, ax = plt.subplots(figsize=(15,10))\n",
    "sns.heatmap(df[[boolvar]+numvar].corr(method='spearman'), \n",
    "            annot=True,cmap=\"coolwarm\",\n",
    "            vmin=-1, vmax=1, ax=ax);"
   ]
  },
  {
   "cell_type": "markdown",
   "metadata": {},
   "source": [
    "### Example: A small tree"
   ]
  },
  {
   "cell_type": "markdown",
   "metadata": {},
   "source": [
    "#### The tree in a figure"
   ]
  },
  {
   "cell_type": "code",
   "execution_count": 106,
   "metadata": {
    "ExecuteTime": {
     "end_time": "2020-11-28T08:07:05.836894Z",
     "start_time": "2020-11-28T08:07:04.978700Z"
    },
    "hide_input": true,
    "scrolled": false
   },
   "outputs": [
    {
     "data": {
      "image/png": "[encoded data removed]",
      "text/plain": [
       "<Figure size 2520x1080 with 1 Axes>"
      ]
     },
     "metadata": {},
     "output_type": "display_data"
    }
   ],
   "source": [
    "from sklearn import linear_model\n",
    "from sklearn import tree\n",
    "from sklearn import metrics\n",
    "import graphviz\n",
    "\n",
    "import os\n",
    "os.environ[\"PATH\"] += os.pathsep + 'C:/Program Files/Graphviz 2.44.1/bin'\n",
    "\n",
    "y = df.Risky.values\n",
    "cols_x = ['Age', 'Credit_amount', 'Duration']\n",
    "cols_c = ['Sex','Job','Housing','Saving_accounts','Checking_account', 'Purpose']\n",
    "\n",
    "X1 = df[cols_x]\n",
    "X2 = df[cols_c]\n",
    "\n",
    "XET = pd.concat([X1, pd.get_dummies(X2)], axis=1)\n",
    "cols = XET.columns\n",
    "\n",
    "mdl = tree.DecisionTreeClassifier(criterion='gini', random_state=100, \n",
    "                                  max_features=None, \n",
    "                                  min_samples_split=50,\n",
    "                                  min_samples_leaf=25, max_depth=10)\n",
    "\n",
    "mdl.fit(XET,y)\n",
    "p = mdl.predict_proba(XET)[:,1]\n",
    "\n",
    "fig, ax = plt.subplots(figsize=(35, 15))\n",
    "tree.plot_tree(mdl, max_depth=3, fontsize=15, feature_names=cols, proportion=True,\n",
    "               filled=True, rounded=True)\n",
    "plt.show()"
   ]
  },
  {
   "cell_type": "markdown",
   "metadata": {},
   "source": [
    "#### The tree exported as a text"
   ]
  },
  {
   "cell_type": "code",
   "execution_count": 107,
   "metadata": {
    "ExecuteTime": {
     "end_time": "2020-11-28T08:07:05.852897Z",
     "start_time": "2020-11-28T08:07:05.837893Z"
    },
    "hide_input": true
   },
   "outputs": [
    {
     "name": "stdout",
     "output_type": "stream",
     "text": [
      "|--- Checking_account_Unknown <= 0.5\n",
      "|   |--- Duration <= 22.5\n",
      "|   |   |--- Duration <= 11.5\n",
      "|   |   |   |--- Age <= 34.5\n",
      "|   |   |   |   |--- weights: [31.0, 16.0] class: False\n",
      "|   |   |   |--- Age >  34.5\n",
      "|   |   |   |   |--- Age <= 43.5\n",
      "|   |   |   |   |   |--- weights: [25.0, 1.0] class: False\n",
      "|   |   |   |   |--- Age >  43.5\n",
      "|   |   |   |   |   |--- weights: [25.0, 5.0] class: False\n",
      "|   |   |--- Duration >  11.5\n",
      "|   |   |   |--- Credit_amount <= 657.3\n",
      "|   |   |   |   |--- Checking_account_moderate <= 0.5\n",
      "|   |   |   |   |   |--- weights: [16.0, 28.0] class: True\n",
      "|   |   |   |   |--- Checking_account_moderate >  0.5\n",
      "|   |   |   |   |   |--- weights: [17.0, 14.0] class: False\n",
      "|   |   |   |--- Credit_amount >  657.3\n",
      "|   |   |   |   |--- Housing_own <= 0.5\n",
      "|   |   |   |   |   |--- Duration <= 15.5\n",
      "|   |   |   |   |   |   |--- weights: [18.0, 10.0] class: False\n",
      "|   |   |   |   |   |--- Duration >  15.5\n",
      "|   |   |   |   |   |   |--- weights: [13.0, 14.0] class: True\n",
      "|   |   |   |   |--- Housing_own >  0.5\n",
      "|   |   |   |   |   |--- Age <= 26.5\n",
      "|   |   |   |   |   |   |--- weights: [16.0, 10.0] class: False\n",
      "|   |   |   |   |   |--- Age >  26.5\n",
      "|   |   |   |   |   |   |--- Age <= 32.5\n",
      "|   |   |   |   |   |   |   |--- weights: [30.0, 4.0] class: False\n",
      "|   |   |   |   |   |   |--- Age >  32.5\n",
      "|   |   |   |   |   |   |   |--- Checking_account_moderate <= 0.5\n",
      "|   |   |   |   |   |   |   |   |--- weights: [17.0, 9.0] class: False\n",
      "|   |   |   |   |   |   |   |--- Checking_account_moderate >  0.5\n",
      "|   |   |   |   |   |   |   |   |--- weights: [25.0, 5.0] class: False\n",
      "|   |--- Duration >  22.5\n",
      "|   |   |--- Saving_accounts_little <= 0.5\n",
      "|   |   |   |--- Checking_account_little <= 0.5\n",
      "|   |   |   |   |--- Saving_accounts_Unknown <= 0.5\n",
      "|   |   |   |   |   |--- weights: [20.0, 18.0] class: False\n",
      "|   |   |   |   |--- Saving_accounts_Unknown >  0.5\n",
      "|   |   |   |   |   |--- weights: [23.0, 2.0] class: False\n",
      "|   |   |   |--- Checking_account_little >  0.5\n",
      "|   |   |   |   |--- weights: [12.0, 14.0] class: True\n",
      "|   |   |--- Saving_accounts_little >  0.5\n",
      "|   |   |   |--- Duration <= 43.5\n",
      "|   |   |   |   |--- Credit_amount <= 1182.6\n",
      "|   |   |   |   |   |--- weights: [8.0, 26.0] class: True\n",
      "|   |   |   |   |--- Credit_amount >  1182.6\n",
      "|   |   |   |   |   |--- Age <= 31.5\n",
      "|   |   |   |   |   |   |--- Credit_amount <= 2203.4\n",
      "|   |   |   |   |   |   |   |--- weights: [13.0, 12.0] class: False\n",
      "|   |   |   |   |   |   |--- Credit_amount >  2203.4\n",
      "|   |   |   |   |   |   |   |--- weights: [10.0, 17.0] class: True\n",
      "|   |   |   |   |   |--- Age >  31.5\n",
      "|   |   |   |   |   |   |--- Credit_amount <= 2121.3\n",
      "|   |   |   |   |   |   |   |--- weights: [15.0, 10.0] class: False\n",
      "|   |   |   |   |   |   |--- Credit_amount >  2121.3\n",
      "|   |   |   |   |   |   |   |--- weights: [15.0, 10.0] class: False\n",
      "|   |   |   |--- Duration >  43.5\n",
      "|   |   |   |   |--- weights: [3.0, 29.0] class: True\n",
      "|--- Checking_account_Unknown >  0.5\n",
      "|   |--- Credit_amount <= 1989.4\n",
      "|   |   |--- Age <= 24.5\n",
      "|   |   |   |--- weights: [26.0, 6.0] class: False\n",
      "|   |   |--- Age >  24.5\n",
      "|   |   |   |--- Job_-skilled <= 0.5\n",
      "|   |   |   |   |--- Credit_amount <= 707.6\n",
      "|   |   |   |   |   |--- weights: [58.0, 0.0] class: False\n",
      "|   |   |   |   |--- Credit_amount >  707.6\n",
      "|   |   |   |   |   |--- Saving_accounts_Unknown <= 0.5\n",
      "|   |   |   |   |   |   |--- Age <= 32.5\n",
      "|   |   |   |   |   |   |   |--- Credit_amount <= 1180.3\n",
      "|   |   |   |   |   |   |   |   |--- weights: [21.0, 4.0] class: False\n",
      "|   |   |   |   |   |   |   |--- Credit_amount >  1180.3\n",
      "|   |   |   |   |   |   |   |   |--- weights: [24.0, 3.0] class: False\n",
      "|   |   |   |   |   |   |--- Age >  32.5\n",
      "|   |   |   |   |   |   |   |--- Duration <= 14.0\n",
      "|   |   |   |   |   |   |   |   |--- weights: [23.0, 2.0] class: False\n",
      "|   |   |   |   |   |   |   |--- Duration >  14.0\n",
      "|   |   |   |   |   |   |   |   |--- weights: [43.0, 2.0] class: False\n",
      "|   |   |   |   |   |--- Saving_accounts_Unknown >  0.5\n",
      "|   |   |   |   |   |   |--- weights: [34.0, 0.0] class: False\n",
      "|   |   |   |--- Job_-skilled >  0.5\n",
      "|   |   |   |   |--- Age <= 41.5\n",
      "|   |   |   |   |   |--- weights: [24.0, 6.0] class: False\n",
      "|   |   |   |   |--- Age >  41.5\n",
      "|   |   |   |   |   |--- weights: [23.0, 2.0] class: False\n",
      "|   |--- Credit_amount >  1989.4\n",
      "|   |   |--- Age <= 29.5\n",
      "|   |   |   |--- weights: [17.0, 9.0] class: False\n",
      "|   |   |--- Age >  29.5\n",
      "|   |   |   |--- Duration <= 25.5\n",
      "|   |   |   |   |--- weights: [20.0, 8.0] class: False\n",
      "|   |   |   |--- Duration >  25.5\n",
      "|   |   |   |   |--- weights: [35.0, 4.0] class: False\n",
      "\n"
     ]
    }
   ],
   "source": [
    "print(tree.export_text(mdl, feature_names=list(cols), spacing=3, decimals=1, show_weights=True))"
   ]
  },
  {
   "cell_type": "markdown",
   "metadata": {},
   "source": [
    "#### Variable importance visualized"
   ]
  },
  {
   "cell_type": "code",
   "execution_count": 108,
   "metadata": {
    "ExecuteTime": {
     "end_time": "2020-11-28T08:07:05.980926Z",
     "start_time": "2020-11-28T08:07:05.853897Z"
    },
    "hide_input": true
   },
   "outputs": [
    {
     "data": {
      "image/png": "[encoded data removed]",
      "text/plain": [
       "<Figure size 1080x720 with 1 Axes>"
      ]
     },
     "metadata": {},
     "output_type": "display_data"
    }
   ],
   "source": [
    "imp = pd.Series(mdl.feature_importances_,index=cols).sort_values(ascending=False)\n",
    "plt.figure(figsize=(15,10))\n",
    "imp[imp>0].plot.barh(color=\"black\").invert_yaxis();"
   ]
  },
  {
   "cell_type": "markdown",
   "metadata": {},
   "source": [
    "#### Gini and AUC of the tree"
   ]
  },
  {
   "cell_type": "code",
   "execution_count": 109,
   "metadata": {
    "ExecuteTime": {
     "end_time": "2020-11-28T08:07:06.090951Z",
     "start_time": "2020-11-28T08:07:05.981926Z"
    },
    "hide_input": true,
    "scrolled": false
   },
   "outputs": [
    {
     "data": {
      "image/png": "[encoded data removed]",
      "text/plain": [
       "<Figure size 1080x360 with 1 Axes>"
      ]
     },
     "metadata": {},
     "output_type": "display_data"
    },
    {
     "name": "stdout",
     "output_type": "stream",
     "text": [
      "AUC:   0.8143857142857144\n",
      "GINI:  0.6287714285714288\n"
     ]
    }
   ],
   "source": [
    "pdpred = mdl.predict_proba(XET)[:,1]\n",
    "\n",
    "fpr, tpr, thresholds = sk.metrics.roc_curve(df.Risky, pdpred)\n",
    "auc = metrics.auc(fpr, tpr)\n",
    "\n",
    "fig, axes = plt.subplots(figsize=(15,5))\n",
    "lw = 2\n",
    "axes = plt.plot(fpr, tpr, color='darkred',\n",
    "         lw=lw, label='ROC curve (area = %0.2f)' % auc)\n",
    "axes = plt.plot([0, 1], [0, 1], color='lightblue', lw=lw, linestyle='--')\n",
    "plt.xlim([0.0, 1.0])\n",
    "plt.ylim([0.0, 1.05])\n",
    "plt.xlabel('False Positive Rate')\n",
    "plt.ylabel('True Positive Rate')\n",
    "plt.title('Receiver operating characteristic example')\n",
    "plt.legend(loc=\"lower right\")\n",
    "plt.show()\n",
    "\n",
    "print('AUC:  ',auc)\n",
    "print('GINI: ', 2*auc -1)"
   ]
  },
  {
   "cell_type": "markdown",
   "metadata": {
    "solution2": "shown",
    "solution2_first": true
   },
   "source": [
    "**Question**\n",
    "\n",
    "Lets estimate another tree, but now using a train-test sample split (2/3 and 1/3) and different settings to build the tree.\n",
    "\n",
    "What do you expect will happen with the Gini coeffient out of sample?"
   ]
  },
  {
   "cell_type": "code",
   "execution_count": 110,
   "metadata": {
    "ExecuteTime": {
     "end_time": "2020-11-28T08:07:06.314507Z",
     "start_time": "2020-11-28T08:07:06.091951Z"
    },
    "hide_input": true,
    "scrolled": false,
    "solution2": "shown"
   },
   "outputs": [
    {
     "data": {
      "image/png": "[encoded data removed]",
      "text/plain": [
       "<Figure size 1080x504 with 1 Axes>"
      ]
     },
     "metadata": {},
     "output_type": "display_data"
    },
    {
     "name": "stdout",
     "output_type": "stream",
     "text": [
      "In sample: \n",
      "AUC:   0.9336010638297872\n",
      "GINI:  0.8672021276595745\n",
      "\n",
      "Out of sample\n",
      "AUC:   0.7068478260869566\n",
      "GINI:  0.41369565217391324\n"
     ]
    }
   ],
   "source": [
    "from sklearn.model_selection import train_test_split\n",
    "ids_train, ids_test, d_train, d_test = train_test_split(df.index, df.Risky, test_size=0.33, random_state=2020)\n",
    "\n",
    "mdl = tree.DecisionTreeClassifier(criterion='gini', random_state=100, \n",
    "                                  max_features=None, \n",
    "                                  min_samples_split=10,\n",
    "                                  min_samples_leaf=5, max_depth=100)\n",
    "\n",
    "mdl.fit(XET.loc[ids_train],d_train)\n",
    "\n",
    "p = mdl.predict_proba(XET.loc[ids_train])[:,1]\n",
    "fpr, tpr, thresholds = sk.metrics.roc_curve(d_train.loc[ids_train], p)\n",
    "auc = metrics.auc(fpr, tpr)\n",
    "\n",
    "p2 = mdl.predict_proba(XET.loc[ids_test])[:,1]\n",
    "fpr2, tpr2, thresholds2 = sk.metrics.roc_curve(d_test.loc[ids_test], p2)\n",
    "auc2 = metrics.auc(fpr2, tpr2)\n",
    "\n",
    "fig, axes = plt.subplots(figsize=(15,7))\n",
    "lw = 2\n",
    "axes = plt.plot(fpr, tpr, color='darkred', lw=lw, label='ROC curve (area = %0.2f)' % auc)\n",
    "axes = plt.plot(fpr2, tpr2, color='darkgreen', lw=lw, label='ROC curve (area = %0.2f)' % auc2)\n",
    "axes = plt.plot([0, 1], [0, 1], color='lightblue', lw=lw, linestyle='--')\n",
    "plt.xlim([0.0, 1.0])\n",
    "plt.ylim([0.0, 1.05])\n",
    "plt.xlabel('False Positive Rate')\n",
    "plt.ylabel('True Positive Rate')\n",
    "plt.title('Receiver operating characteristic example')\n",
    "plt.legend(loc=\"lower right\")\n",
    "plt.show()\n",
    "\n",
    "print(\"In sample: \")\n",
    "print('AUC:  ',auc)\n",
    "print('GINI: ', 2*auc -1)\n",
    "print()\n",
    "print(\"Out of sample\")\n",
    "print('AUC:  ',auc2)\n",
    "print('GINI: ', 2*auc2 -1)"
   ]
  },
  {
   "cell_type": "markdown",
   "metadata": {},
   "source": [
    "## Other suitable methods you can use in your case study"
   ]
  },
  {
   "cell_type": "markdown",
   "metadata": {},
   "source": [
    "Logistic regressions aren't without any alternative. There are many interesting candidates you could try out, but I will be very happy with a logistic regressions. Don't forget the story of the case study and don't assume that the people you have to explain your approach, like the CRO, are machine learning experts. A CRO will want to understand what you have done and simply copy some code you found in the world wide web to estimate a fancy super model without understanding it will not be enough. Furthermore, many people in a bank will want to be able to understand the effect of X on Y - and many people have problems to comprehend non-linear relationships. Furthermore, you will prefer a robust model and given the number of observations in your dataset finding a well out-of-sample performing logistic regression model will be difficult enough.\n",
    "\n",
    "Due to that, I will not go into any details about the below listed methods. Nevertheless, such models are very interesting on their own and if you are able to explain me those models and provide me with an economic reasoning of your results, you are welcome to use them of course.\n",
    "\n",
    "* Ensambling methods (Boosting and Bagging)\n",
    "* Generalized Additive Models\n",
    "* Support Vector and Gradient Boosting Machines\n",
    "* Random Forests and other tree based models\n",
    "* Neural networks\n",
    "* ..."
   ]
  },
  {
   "cell_type": "markdown",
   "metadata": {},
   "source": [
    "# The case study (break out rooms)"
   ]
  }
 ],
 "metadata": {
  "hide_input": false,
  "kernelspec": {
   "display_name": "Python 3",
   "language": "python",
   "name": "python3"
  },
  "language_info": {
   "codemirror_mode": {
    "name": "ipython",
    "version": 3
   },
   "file_extension": ".py",
   "mimetype": "text/x-python",
   "name": "python",
   "nbconvert_exporter": "python",
   "pygments_lexer": "ipython3",
   "version": "3.8.3"
  },
  "latex_envs": {
   "LaTeX_envs_menu_present": true,
   "autoclose": true,
   "autocomplete": true,
   "bibliofile": "biblio.bib",
   "cite_by": "apalike",
   "current_citInitial": 1,
   "eqLabelWithNumbers": true,
   "eqNumInitial": 1,
   "hotkeys": {
    "equation": "Ctrl-E",
    "itemize": "Ctrl-I"
   },
   "labels_anchors": false,
   "latex_user_defs": false,
   "report_style_numbering": false,
   "user_envs_cfg": false
  },
  "toc": {
   "base_numbering": 1,
   "nav_menu": {},
   "number_sections": true,
   "sideBar": true,
   "skip_h1_title": false,
   "title_cell": "Theoretical and Applied Part",
   "title_sidebar": "Contents",
   "toc_cell": true,
   "toc_position": {
    "height": "calc(100% - 180px)",
    "left": "10px",
    "top": "150px",
    "width": "281.663px"
   },
   "toc_section_display": true,
   "toc_window_display": false
  },
  "varInspector": {
   "cols": {
    "lenName": 16,
    "lenType": 16,
    "lenVar": 40
   },
   "kernels_config": {
    "python": {
     "delete_cmd_postfix": "",
     "delete_cmd_prefix": "del ",
     "library": "var_list.py",
     "varRefreshCmd": "print(var_dic_list())"
    },
    "r": {
     "delete_cmd_postfix": ") ",
     "delete_cmd_prefix": "rm(",
     "library": "var_list.r",
     "varRefreshCmd": "cat(var_dic_list()) "
    }
   },
   "types_to_exclude": [
    "module",
    "function",
    "builtin_function_or_method",
    "instance",
    "_Feature"
   ],
   "window_display": false
  }
 },
 "nbformat": 4,
 "nbformat_minor": 4
}
